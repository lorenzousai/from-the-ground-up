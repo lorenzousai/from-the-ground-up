{
 "cells": [
  {
   "cell_type": "code",
   "execution_count": 1,
   "id": "0d966dd8-e5f3-4b20-be98-08feeda8a52f",
   "metadata": {},
   "outputs": [],
   "source": [
    "import bw2data as bd\n",
    "import bw2io as bi\n",
    "import bw2calc as bc\n",
    "import pandas as pd"
   ]
  },
  {
   "cell_type": "code",
   "execution_count": 2,
   "id": "56b1f3a7-8dfb-49c3-891c-35aa7a59b1d1",
   "metadata": {},
   "outputs": [
    {
     "data": {
      "text/plain": [
       "(True, True, True)"
      ]
     },
     "execution_count": 2,
     "metadata": {},
     "output_type": "execute_result"
    }
   ],
   "source": [
    "bd.__version__ >= (4, 0, 'DEV7'), bi.__version__ >= (0, 9, 'DEV4'), bc.__version__ >= (2, 0, 'DEV2')"
   ]
  },
  {
   "cell_type": "code",
   "execution_count": 3,
   "id": "69ae26f1-fcd8-4f8b-b455-1bb77fa43926",
   "metadata": {},
   "outputs": [],
   "source": [
    "bd.projects.set_current(\"fresh-start\")"
   ]
  },
  {
   "cell_type": "code",
   "execution_count": 4,
   "id": "790fb7f4-1a78-49ec-93f9-202356fbe50c",
   "metadata": {},
   "outputs": [],
   "source": [
    "if \"mobility\" in bd.databases:\n",
    "    del bd.databases['mobility']\n",
    "\n",
    "if \"biosphere\" in bd.databases:\n",
    "    del bd.databases['biosphere']"
   ]
  },
  {
   "cell_type": "code",
   "execution_count": 5,
   "id": "ad27fef4-a2a7-4afd-ae5b-0f8e4567bf19",
   "metadata": {},
   "outputs": [],
   "source": [
    "db = bd.Database(\"mobility\")\n",
    "db.register()\n",
    "\n",
    "biosphere = bd.Database(\"biosphere\")\n",
    "biosphere.register()"
   ]
  },
  {
   "cell_type": "code",
   "execution_count": 6,
   "id": "c6b558d9-203f-4bb9-ac09-408efe3ba2b7",
   "metadata": {},
   "outputs": [],
   "source": [
    "data = {\n",
    "    'code': 'bike',\n",
    "    'name': 'bike production',\n",
    "    'location': 'NO',\n",
    "    'unit': 'bike'\n",
    "}\n",
    "\n",
    "bike = db.new_activity(**data)\n",
    "bike.save()"
   ]
  },
  {
   "cell_type": "code",
   "execution_count": 7,
   "id": "03377b96-7e5e-4bc7-a524-428049cc1d3d",
   "metadata": {},
   "outputs": [],
   "source": [
    "data = {\n",
    "    'code': 'CF',\n",
    "    'name': 'carbon fibre',\n",
    "    'unit': 'kilogram',\n",
    "    'location': 'CN'\n",
    "}\n",
    "      # here you are creating a dictionary and then feeding with the next line\n",
    "cf = db.new_activity(**data)\n",
    "cf.save()"
   ]
  },
  {
   "cell_type": "code",
   "execution_count": 8,
   "id": "c3ed02ab-2b7e-42d4-b03b-cb386b7603d8",
   "metadata": {},
   "outputs": [],
   "source": [
    "ng = db.new_activity(\n",
    "    name=\"Nat Gas\", \n",
    "    code='ng', \n",
    "    location='NO', \n",
    "    unit='MJ'\n",
    ")\n",
    "       # these are arguments into a function\n",
    "ng.save()"
   ]
  },
  {
   "cell_type": "code",
   "execution_count": 9,
   "id": "05eb6c4c-10d8-4430-875f-2a32ac9efd2c",
   "metadata": {},
   "outputs": [],
   "source": [
    "co2 = biosphere.new_activity(\n",
    "    name=\"Carbon Dioxide\", \n",
    "    code='co2', \n",
    "    categories=('air',),\n",
    "    type='emission',\n",
    ")\n",
    "         # before the default type was process\n",
    "co2.save()"
   ]
  },
  {
   "cell_type": "code",
   "execution_count": 10,
   "id": "49d2d738-7e14-40df-8dd0-e9023189ab9b",
   "metadata": {},
   "outputs": [],
   "source": [
    "# create edges\n",
    "bike.new_exchange(\n",
    "    amount=2.5, \n",
    "    type='technosphere',\n",
    "    input=cf\n",
    ").save()"
   ]
  },
  {
   "cell_type": "code",
   "execution_count": 11,
   "id": "00a1add8",
   "metadata": {},
   "outputs": [
    {
     "data": {
      "text/plain": [
       "['carbon fibre' (kilogram, CN, None),\n",
       " 'Nat Gas' (MJ, NO, None),\n",
       " 'bike production' (bike, NO, None)]"
      ]
     },
     "execution_count": 11,
     "metadata": {},
     "output_type": "execute_result"
    }
   ],
   "source": [
    "list(db)"
   ]
  },
  {
   "cell_type": "code",
   "execution_count": 12,
   "id": "6c33d5c2-b27e-4640-952f-ad8ca76cf35a",
   "metadata": {},
   "outputs": [],
   "source": [
    "cf.new_exchange(\n",
    "    amount=237.3,  # plus 58 kWh of electricity, in ecoinvent 3.8 \n",
    "    uncertainty_type=5, \n",
    "    minimum=200, \n",
    "    maximum=300, \n",
    "    type='technosphere',\n",
    "    input=ng,\n",
    ").save()"
   ]
  },
  {
   "cell_type": "code",
   "execution_count": 13,
   "id": "525489dd-caf0-401c-80bc-8ea0f3b8cb71",
   "metadata": {},
   "outputs": [],
   "source": [
    "cf.new_exchange(\n",
    "    amount=26.6, \n",
    "    uncertainty_type=5, \n",
    "    minimum=26,\n",
    "    maximum=27.2, \n",
    "    type='biosphere',\n",
    "    input=co2,\n",
    ").save()"
   ]
  },
  {
   "cell_type": "code",
   "execution_count": 14,
   "id": "e6420904-e037-4046-ad2d-cf97188722b5",
   "metadata": {},
   "outputs": [],
   "source": [
    "ipcc = bd.Method(('IPCC',))\n",
    "ipcc.write([\n",
    "    (co2.key, {'amount': 1, 'uncertainty_type': 3, 'loc': 1, 'scale': 0.05}),   # uncertainty 3: gaussian\n",
    "])"
   ]
  },
  {
   "cell_type": "code",
   "execution_count": 15,
   "id": "f031fe36-d25f-41bc-a099-c1e5f77806ab",
   "metadata": {},
   "outputs": [],
   "source": [
    "import bw2calc as bc"
   ]
  },
  {
   "cell_type": "code",
   "execution_count": 16,
   "id": "170661dd-5d28-43f0-a174-2d8486f8b994",
   "metadata": {},
   "outputs": [],
   "source": [
    "lca = bc.LCA(\n",
    "    {bike: 1}, # Func unit is one bike\n",
    "    ('IPCC',), # Method\n",
    "    use_distributions=True,\n",
    "    seed_override=None\n",
    ")\n",
    "lca.lci()\n",
    "lca.lcia()"
   ]
  },
  {
   "cell_type": "code",
   "execution_count": 17,
   "id": "435147ff-fe83-4ce2-b17e-4142b1bb1f0d",
   "metadata": {},
   "outputs": [
    {
     "data": {
      "text/html": [
       "<div>\n",
       "<style scoped>\n",
       "    .dataframe tbody tr th:only-of-type {\n",
       "        vertical-align: middle;\n",
       "    }\n",
       "\n",
       "    .dataframe tbody tr th {\n",
       "        vertical-align: top;\n",
       "    }\n",
       "\n",
       "    .dataframe thead th {\n",
       "        text-align: right;\n",
       "    }\n",
       "</style>\n",
       "<table border=\"1\" class=\"dataframe\">\n",
       "  <thead>\n",
       "    <tr style=\"text-align: right;\">\n",
       "      <th></th>\n",
       "      <th>score</th>\n",
       "      <th>inv</th>\n",
       "      <th>char</th>\n",
       "    </tr>\n",
       "  </thead>\n",
       "  <tbody>\n",
       "    <tr>\n",
       "      <th>0</th>\n",
       "      <td>64.208476</td>\n",
       "      <td>67.903405</td>\n",
       "      <td>0.945586</td>\n",
       "    </tr>\n",
       "    <tr>\n",
       "      <th>1</th>\n",
       "      <td>68.271769</td>\n",
       "      <td>66.888253</td>\n",
       "      <td>1.020684</td>\n",
       "    </tr>\n",
       "    <tr>\n",
       "      <th>2</th>\n",
       "      <td>67.864463</td>\n",
       "      <td>65.996759</td>\n",
       "      <td>1.028300</td>\n",
       "    </tr>\n",
       "    <tr>\n",
       "      <th>3</th>\n",
       "      <td>66.559598</td>\n",
       "      <td>65.477416</td>\n",
       "      <td>1.016528</td>\n",
       "    </tr>\n",
       "    <tr>\n",
       "      <th>4</th>\n",
       "      <td>61.274823</td>\n",
       "      <td>66.483227</td>\n",
       "      <td>0.921658</td>\n",
       "    </tr>\n",
       "    <tr>\n",
       "      <th>...</th>\n",
       "      <td>...</td>\n",
       "      <td>...</td>\n",
       "      <td>...</td>\n",
       "    </tr>\n",
       "    <tr>\n",
       "      <th>995</th>\n",
       "      <td>64.539491</td>\n",
       "      <td>67.041718</td>\n",
       "      <td>0.962677</td>\n",
       "    </tr>\n",
       "    <tr>\n",
       "      <th>996</th>\n",
       "      <td>69.288824</td>\n",
       "      <td>67.229862</td>\n",
       "      <td>1.030626</td>\n",
       "    </tr>\n",
       "    <tr>\n",
       "      <th>997</th>\n",
       "      <td>66.629898</td>\n",
       "      <td>66.247060</td>\n",
       "      <td>1.005779</td>\n",
       "    </tr>\n",
       "    <tr>\n",
       "      <th>998</th>\n",
       "      <td>64.770079</td>\n",
       "      <td>67.283959</td>\n",
       "      <td>0.962638</td>\n",
       "    </tr>\n",
       "    <tr>\n",
       "      <th>999</th>\n",
       "      <td>67.603434</td>\n",
       "      <td>67.124303</td>\n",
       "      <td>1.007138</td>\n",
       "    </tr>\n",
       "  </tbody>\n",
       "</table>\n",
       "<p>1000 rows × 3 columns</p>\n",
       "</div>"
      ],
      "text/plain": [
       "         score        inv      char\n",
       "0    64.208476  67.903405  0.945586\n",
       "1    68.271769  66.888253  1.020684\n",
       "2    67.864463  65.996759  1.028300\n",
       "3    66.559598  65.477416  1.016528\n",
       "4    61.274823  66.483227  0.921658\n",
       "..         ...        ...       ...\n",
       "995  64.539491  67.041718  0.962677\n",
       "996  69.288824  67.229862  1.030626\n",
       "997  66.629898  66.247060  1.005779\n",
       "998  64.770079  67.283959  0.962638\n",
       "999  67.603434  67.124303  1.007138\n",
       "\n",
       "[1000 rows x 3 columns]"
      ]
     },
     "execution_count": 17,
     "metadata": {},
     "output_type": "execute_result"
    }
   ],
   "source": [
    "df = pd.DataFrame([\n",
    "    {\n",
    "        'score': lca.score, \n",
    "        'inv': lca.inventory.sum(), \n",
    "        # 'heat': lca.technosphere_matrix[lca.dicts.product[ng.id], lca.dicts.activity[cf.id]],\n",
    "        'char': lca.characterization_matrix.sum()\n",
    "    } for _, _ in zip(lca, range(1000))\n",
    "])\n",
    "df"
   ]
  },
  {
   "cell_type": "code",
   "execution_count": 18,
   "id": "c6a7f0a6",
   "metadata": {},
   "outputs": [
    {
     "data": {
      "text/plain": [
       "array([[<AxesSubplot:title={'center':'score'}>]], dtype=object)"
      ]
     },
     "execution_count": 18,
     "metadata": {},
     "output_type": "execute_result"
    },
    {
     "data": {
      "image/png": "[encoded data removed]",
      "text/plain": [
       "<Figure size 432x288 with 1 Axes>"
      ]
     },
     "metadata": {
      "needs_background": "light"
     },
     "output_type": "display_data"
    }
   ],
   "source": [
    "df.hist('score')"
   ]
  },
  {
   "cell_type": "markdown",
   "id": "ff85f580-13cc-4d11-93d3-3b5acd0b5ae8",
   "metadata": {},
   "source": [
    "What if we only want uncertainty in the characterization step?\n",
    "\n",
    "We need to modify the datapackage a bit"
   ]
  },
  {
   "cell_type": "code",
   "execution_count": 19,
   "id": "2504a424-c376-4ed8-9a9f-fb448e2d334f",
   "metadata": {},
   "outputs": [],
   "source": [
    "from bw_processing import load_datapackage\n",
    "from fs.zipfs import ZipFS"
   ]
  },
  {
   "cell_type": "code",
   "execution_count": 20,
   "id": "6ee62fb6-a338-4b2c-a689-0562af0777ab",
   "metadata": {},
   "outputs": [],
   "source": [
    "database_dp = load_datapackage(ZipFS(db.filepath_processed()))\n",
    "method_dp = load_datapackage(ZipFS(ipcc.filepath_processed()))"
   ]
  },
  {
   "cell_type": "markdown",
   "id": "3f1793c6-03a2-42b0-b56d-0ef926951514",
   "metadata": {},
   "source": [
    "We can use the datapackages directly, just as before:"
   ]
  },
  {
   "cell_type": "code",
   "execution_count": 21,
   "id": "146f6ad7-175d-45c8-8962-5d1024fe8e1c",
   "metadata": {},
   "outputs": [],
   "source": [
    "lca = bc.LCA(\n",
    "    demand={bike.id: 1},\n",
    "    data_objs=[database_dp, method_dp],\n",
    "    use_distributions=True,\n",
    "    seed_override=None\n",
    ")\n",
    "lca.lci()\n",
    "lca.lcia()"
   ]
  },
  {
   "cell_type": "code",
   "execution_count": 22,
   "id": "f583caa4-15c9-4abb-9722-0fe7151ecc25",
   "metadata": {},
   "outputs": [
    {
     "data": {
      "text/html": [
       "<div>\n",
       "<style scoped>\n",
       "    .dataframe tbody tr th:only-of-type {\n",
       "        vertical-align: middle;\n",
       "    }\n",
       "\n",
       "    .dataframe tbody tr th {\n",
       "        vertical-align: top;\n",
       "    }\n",
       "\n",
       "    .dataframe thead th {\n",
       "        text-align: right;\n",
       "    }\n",
       "</style>\n",
       "<table border=\"1\" class=\"dataframe\">\n",
       "  <thead>\n",
       "    <tr style=\"text-align: right;\">\n",
       "      <th></th>\n",
       "      <th>score</th>\n",
       "      <th>inv</th>\n",
       "      <th>char</th>\n",
       "    </tr>\n",
       "  </thead>\n",
       "  <tbody>\n",
       "    <tr>\n",
       "      <th>0</th>\n",
       "      <td>61.622929</td>\n",
       "      <td>66.737308</td>\n",
       "      <td>0.923366</td>\n",
       "    </tr>\n",
       "    <tr>\n",
       "      <th>1</th>\n",
       "      <td>66.276587</td>\n",
       "      <td>66.332876</td>\n",
       "      <td>0.999151</td>\n",
       "    </tr>\n",
       "    <tr>\n",
       "      <th>2</th>\n",
       "      <td>70.299440</td>\n",
       "      <td>66.421915</td>\n",
       "      <td>1.058377</td>\n",
       "    </tr>\n",
       "    <tr>\n",
       "      <th>3</th>\n",
       "      <td>69.138496</td>\n",
       "      <td>66.122096</td>\n",
       "      <td>1.045619</td>\n",
       "    </tr>\n",
       "    <tr>\n",
       "      <th>4</th>\n",
       "      <td>67.735368</td>\n",
       "      <td>66.201492</td>\n",
       "      <td>1.023170</td>\n",
       "    </tr>\n",
       "    <tr>\n",
       "      <th>5</th>\n",
       "      <td>64.450394</td>\n",
       "      <td>66.685615</td>\n",
       "      <td>0.966481</td>\n",
       "    </tr>\n",
       "    <tr>\n",
       "      <th>6</th>\n",
       "      <td>69.035246</td>\n",
       "      <td>66.188051</td>\n",
       "      <td>1.043017</td>\n",
       "    </tr>\n",
       "    <tr>\n",
       "      <th>7</th>\n",
       "      <td>73.179753</td>\n",
       "      <td>66.858352</td>\n",
       "      <td>1.094549</td>\n",
       "    </tr>\n",
       "    <tr>\n",
       "      <th>8</th>\n",
       "      <td>62.491735</td>\n",
       "      <td>66.959482</td>\n",
       "      <td>0.933277</td>\n",
       "    </tr>\n",
       "    <tr>\n",
       "      <th>9</th>\n",
       "      <td>71.985927</td>\n",
       "      <td>66.861131</td>\n",
       "      <td>1.076648</td>\n",
       "    </tr>\n",
       "  </tbody>\n",
       "</table>\n",
       "</div>"
      ],
      "text/plain": [
       "       score        inv      char\n",
       "0  61.622929  66.737308  0.923366\n",
       "1  66.276587  66.332876  0.999151\n",
       "2  70.299440  66.421915  1.058377\n",
       "3  69.138496  66.122096  1.045619\n",
       "4  67.735368  66.201492  1.023170\n",
       "5  64.450394  66.685615  0.966481\n",
       "6  69.035246  66.188051  1.043017\n",
       "7  73.179753  66.858352  1.094549\n",
       "8  62.491735  66.959482  0.933277\n",
       "9  71.985927  66.861131  1.076648"
      ]
     },
     "execution_count": 22,
     "metadata": {},
     "output_type": "execute_result"
    }
   ],
   "source": [
    "pd.DataFrame([\n",
    "    {\n",
    "        'score': lca.score, \n",
    "        'inv': lca.inventory.sum(), \n",
    "        'char': lca.characterization_matrix.sum()\n",
    "    } for _, _ in zip(lca, range(10))\n",
    "])"
   ]
  },
  {
   "cell_type": "markdown",
   "id": "c80ca5a2-25bc-4f87-bd18-4f36e7d6e18b",
   "metadata": {},
   "source": [
    "But we can also filter out the uncertainty from the $A$ matrix:"
   ]
  },
  {
   "cell_type": "code",
   "execution_count": 23,
   "id": "f74a9b91-5a9d-4d1c-b9ce-e3cf5ab1ae5a",
   "metadata": {},
   "outputs": [
    {
     "data": {
      "text/plain": [
       "{'mobility_biosphere_matrix': <bw_processing.datapackage.FilteredDatapackage at 0x21ede473fa0>,\n",
       " 'mobility_inventory_geomapping_matrix': <bw_processing.datapackage.FilteredDatapackage at 0x21ede473a30>,\n",
       " 'mobility_technosphere_matrix': <bw_processing.datapackage.FilteredDatapackage at 0x21ede473eb0>}"
      ]
     },
     "execution_count": 23,
     "metadata": {},
     "output_type": "execute_result"
    }
   ],
   "source": [
    "database_dp.groups"
   ]
  },
  {
   "cell_type": "code",
   "execution_count": 24,
   "id": "e98c58c6",
   "metadata": {},
   "outputs": [
    {
     "data": {
      "text/plain": [
       "(array([(0,   1. , nan, nan,  nan,  nan, False),\n",
       "        (0,   2.5, nan, nan,  nan,  nan, False),\n",
       "        (0,   1. , nan, nan,  nan,  nan, False),\n",
       "        (5, 237.3, nan, nan, 200., 300., False),\n",
       "        (0,   1. , nan, nan,  nan,  nan, False)],\n",
       "       dtype=[('uncertainty_type', 'u1'), ('loc', '<f4'), ('scale', '<f4'), ('shape', '<f4'), ('minimum', '<f4'), ('maximum', '<f4'), ('negative', '?')]),\n",
       " {'profile': 'data-resource',\n",
       "  'format': 'npy',\n",
       "  'mediatype': 'application/octet-stream',\n",
       "  'name': 'mobility_technosphere_matrix.distributions',\n",
       "  'matrix': 'technosphere_matrix',\n",
       "  'kind': 'distributions',\n",
       "  'path': 'mobility_technosphere_matrix.distributions.npy',\n",
       "  'group': 'mobility_technosphere_matrix',\n",
       "  'nrows': 5,\n",
       "  'category': 'vector'})"
      ]
     },
     "execution_count": 24,
     "metadata": {},
     "output_type": "execute_result"
    }
   ],
   "source": [
    "database_dp.get_resource('mobility_technosphere_matrix.distributions')"
   ]
  },
  {
   "cell_type": "code",
   "execution_count": 25,
   "id": "ca058508-7776-4878-8654-e958826477d5",
   "metadata": {},
   "outputs": [],
   "source": [
    "filtered_dp = (database_dp\n",
    "               .exclude_resource_group_kind('mobility_technosphere_matrix', 'distributions')\n",
    "               .exclude_resource_group_kind('mobility_biosphere_matrix', 'distributions')\n",
    "              )"
   ]
  },
  {
   "cell_type": "code",
   "execution_count": 26,
   "id": "4d68b645-be3a-433c-9491-6ef668752151",
   "metadata": {},
   "outputs": [
    {
     "data": {
      "text/plain": [
       "['mobility_biosphere_matrix.distributions',\n",
       " 'mobility_technosphere_matrix.distributions']"
      ]
     },
     "execution_count": 26,
     "metadata": {},
     "output_type": "execute_result"
    }
   ],
   "source": [
    "[obj['name'] for obj in database_dp.resources if obj['kind'] == 'distributions']"
   ]
  },
  {
   "cell_type": "code",
   "execution_count": 27,
   "id": "9cbaa90a-5ca5-4ee7-b1ef-eae4b60d778e",
   "metadata": {},
   "outputs": [
    {
     "data": {
      "text/plain": [
       "[]"
      ]
     },
     "execution_count": 27,
     "metadata": {},
     "output_type": "execute_result"
    }
   ],
   "source": [
    "[obj['name'] for obj in filtered_dp.resources if obj['kind'] == 'distributions']"
   ]
  },
  {
   "cell_type": "code",
   "execution_count": 28,
   "id": "d9af9f5d-659a-4f1a-a7a6-be81dceac673",
   "metadata": {},
   "outputs": [],
   "source": [
    "lca = bc.LCA(\n",
    "    {bike.id: 1},\n",
    "    data_objs=[filtered_dp, method_dp],\n",
    "    use_distributions=True,\n",
    "    seed_override=None\n",
    ")\n",
    "lca.lci()\n",
    "lca.lcia()"
   ]
  },
  {
   "cell_type": "code",
   "execution_count": 29,
   "id": "9188a9f4-a361-4f6b-8080-f39423509708",
   "metadata": {
    "scrolled": true
   },
   "outputs": [
    {
     "data": {
      "text/html": [
       "<div>\n",
       "<style scoped>\n",
       "    .dataframe tbody tr th:only-of-type {\n",
       "        vertical-align: middle;\n",
       "    }\n",
       "\n",
       "    .dataframe tbody tr th {\n",
       "        vertical-align: top;\n",
       "    }\n",
       "\n",
       "    .dataframe thead th {\n",
       "        text-align: right;\n",
       "    }\n",
       "</style>\n",
       "<table border=\"1\" class=\"dataframe\">\n",
       "  <thead>\n",
       "    <tr style=\"text-align: right;\">\n",
       "      <th></th>\n",
       "      <th>score</th>\n",
       "      <th>inv</th>\n",
       "      <th>char</th>\n",
       "    </tr>\n",
       "  </thead>\n",
       "  <tbody>\n",
       "    <tr>\n",
       "      <th>0</th>\n",
       "      <td>70.008317</td>\n",
       "      <td>66.500001</td>\n",
       "      <td>1.052757</td>\n",
       "    </tr>\n",
       "    <tr>\n",
       "      <th>1</th>\n",
       "      <td>66.247939</td>\n",
       "      <td>66.500001</td>\n",
       "      <td>0.996210</td>\n",
       "    </tr>\n",
       "    <tr>\n",
       "      <th>2</th>\n",
       "      <td>63.940854</td>\n",
       "      <td>66.500001</td>\n",
       "      <td>0.961517</td>\n",
       "    </tr>\n",
       "    <tr>\n",
       "      <th>3</th>\n",
       "      <td>71.740957</td>\n",
       "      <td>66.500001</td>\n",
       "      <td>1.078811</td>\n",
       "    </tr>\n",
       "    <tr>\n",
       "      <th>4</th>\n",
       "      <td>64.390743</td>\n",
       "      <td>66.500001</td>\n",
       "      <td>0.968282</td>\n",
       "    </tr>\n",
       "    <tr>\n",
       "      <th>5</th>\n",
       "      <td>70.606941</td>\n",
       "      <td>66.500001</td>\n",
       "      <td>1.061758</td>\n",
       "    </tr>\n",
       "    <tr>\n",
       "      <th>6</th>\n",
       "      <td>67.231154</td>\n",
       "      <td>66.500001</td>\n",
       "      <td>1.010995</td>\n",
       "    </tr>\n",
       "    <tr>\n",
       "      <th>7</th>\n",
       "      <td>65.317662</td>\n",
       "      <td>66.500001</td>\n",
       "      <td>0.982220</td>\n",
       "    </tr>\n",
       "    <tr>\n",
       "      <th>8</th>\n",
       "      <td>61.085454</td>\n",
       "      <td>66.500001</td>\n",
       "      <td>0.918578</td>\n",
       "    </tr>\n",
       "    <tr>\n",
       "      <th>9</th>\n",
       "      <td>72.546846</td>\n",
       "      <td>66.500001</td>\n",
       "      <td>1.090930</td>\n",
       "    </tr>\n",
       "  </tbody>\n",
       "</table>\n",
       "</div>"
      ],
      "text/plain": [
       "       score        inv      char\n",
       "0  70.008317  66.500001  1.052757\n",
       "1  66.247939  66.500001  0.996210\n",
       "2  63.940854  66.500001  0.961517\n",
       "3  71.740957  66.500001  1.078811\n",
       "4  64.390743  66.500001  0.968282\n",
       "5  70.606941  66.500001  1.061758\n",
       "6  67.231154  66.500001  1.010995\n",
       "7  65.317662  66.500001  0.982220\n",
       "8  61.085454  66.500001  0.918578\n",
       "9  72.546846  66.500001  1.090930"
      ]
     },
     "execution_count": 29,
     "metadata": {},
     "output_type": "execute_result"
    }
   ],
   "source": [
    "pd.DataFrame([\n",
    "    {\n",
    "        'score': lca.score, \n",
    "        'inv': lca.inventory.sum(), \n",
    "        'char': lca.characterization_matrix.sum()\n",
    "    } for _, _ in zip(lca, range(10))\n",
    "])"
   ]
  },
  {
   "cell_type": "markdown",
   "id": "7cc76367-1b10-4dcb-94dd-e373e1e88fb2",
   "metadata": {},
   "source": [
    "We have a problem in our modelling. Maybe you spotted it already; in any case, we can see this LCI data in a document. This is the third perspective, and so we need to use our third library: `bw2io`."
   ]
  },
  {
   "cell_type": "code",
   "execution_count": 34,
   "id": "7c25b045-1d1b-4912-b27f-4a773d26fbd0",
   "metadata": {},
   "outputs": [],
   "source": [
    "from bw2io.export import write_lci_excel"
   ]
  },
  {
   "cell_type": "code",
   "execution_count": 35,
   "id": "87be73d1-2aca-421b-a04e-80e64b45f17b",
   "metadata": {},
   "outputs": [],
   "source": [
    "from pathlib import Path"
   ]
  },
  {
   "cell_type": "code",
   "execution_count": 38,
   "id": "9f32e4bc-0764-4d23-aeab-78e3a558bd44",
   "metadata": {},
   "outputs": [],
   "source": [
    "xl = Path(write_lci_excel(db.name))"
   ]
  },
  {
   "cell_type": "code",
   "execution_count": 39,
   "id": "ca375ed5-3681-46da-bda2-8907102de4b3",
   "metadata": {},
   "outputs": [
    {
     "data": {
      "text/plain": [
       "WindowsPath('C:/Users/fabic/lci-mobility.xlsx')"
      ]
     },
     "execution_count": 39,
     "metadata": {},
     "output_type": "execute_result"
    }
   ],
   "source": [
    "xl.rename(Path.cwd() / xl.name)"
   ]
  },
  {
   "cell_type": "code",
   "execution_count": 40,
   "id": "45b0d692-8d45-46e8-92f7-b54b8a51a6e4",
   "metadata": {},
   "outputs": [],
   "source": [
    "bi.create_core_migrations()"
   ]
  },
  {
   "cell_type": "code",
   "execution_count": 49,
   "id": "54f4b14e",
   "metadata": {},
   "outputs": [
    {
     "data": {
      "text/plain": [
       "[<function bw2io.strategies.csv.csv_restore_tuples(data)>,\n",
       " <function bw2io.strategies.csv.csv_restore_booleans(data)>,\n",
       " <function bw2io.strategies.csv.csv_numerize(data)>,\n",
       " <function bw2io.strategies.csv.csv_drop_unknown(data)>,\n",
       " <function bw2io.strategies.csv.csv_add_missing_exchanges_section(data)>,\n",
       " <function bw2io.strategies.generic.normalize_units(db)>,\n",
       " <function bw2io.strategies.biosphere.normalize_biosphere_categories(db, lcia=False)>,\n",
       " <function bw2io.strategies.biosphere.normalize_biosphere_names(db, lcia=False)>,\n",
       " <function bw2io.strategies.biosphere.strip_biosphere_exc_locations(db)>,\n",
       " <function bw2io.strategies.generic.set_code_by_activity_hash(db, overwrite=False)>,\n",
       " functools.partial(<function link_iterable_by_fields at 0x0000021EDC778A60>, other=Brightway2 SQLiteBackend: biosphere3, kind='biosphere'),\n",
       " <function bw2io.strategies.generic.assign_only_product_as_production(db)>,\n",
       " <function bw2io.strategies.generic.link_technosphere_by_activity_hash(db, external_db_name=None, fields=None)>,\n",
       " <function bw2io.strategies.generic.drop_falsey_uncertainty_fields_but_keep_zeros(db)>,\n",
       " <function bw2io.strategies.generic.convert_uncertainty_types_to_integers(db)>,\n",
       " <function bw2io.strategies.generic.convert_activity_parameters_to_list(data)>]"
      ]
     },
     "execution_count": 49,
     "metadata": {},
     "output_type": "execute_result"
    }
   ],
   "source": [
    "xl_importer.strategies"
   ]
  },
  {
   "cell_type": "code",
   "execution_count": 41,
   "id": "b63c2a6b-538c-4a4e-83fb-60bf2095ee45",
   "metadata": {},
   "outputs": [
    {
     "name": "stdout",
     "output_type": "stream",
     "text": [
      "Extracted 1 worksheets in 0.01 seconds\n"
     ]
    }
   ],
   "source": [
    "xl_importer = bi.ExcelImporter(\"lci-mobility2.xlsx\")"
   ]
  },
  {
   "cell_type": "code",
   "execution_count": 42,
   "id": "b33b0a20-8823-4201-89c1-2618638221fc",
   "metadata": {},
   "outputs": [
    {
     "name": "stdout",
     "output_type": "stream",
     "text": [
      "Applying strategy: csv_restore_tuples\n",
      "Applying strategy: csv_restore_booleans\n",
      "Applying strategy: csv_numerize\n",
      "Applying strategy: csv_drop_unknown\n",
      "Applying strategy: csv_add_missing_exchanges_section\n",
      "Applying strategy: normalize_units\n",
      "Applying strategy: normalize_biosphere_categories\n",
      "Applying strategy: normalize_biosphere_names\n",
      "Applying strategy: strip_biosphere_exc_locations\n",
      "Applying strategy: set_code_by_activity_hash\n",
      "Applying strategy: link_iterable_by_fields\n",
      "Applying strategy: assign_only_product_as_production\n",
      "Applying strategy: link_technosphere_by_activity_hash\n",
      "Applying strategy: drop_falsey_uncertainty_fields_but_keep_zeros\n",
      "Applying strategy: convert_uncertainty_types_to_integers\n",
      "Applying strategy: convert_activity_parameters_to_list\n",
      "Applied 16 strategies in 0.01 seconds\n"
     ]
    }
   ],
   "source": [
    "xl_importer.apply_strategies()"
   ]
  },
  {
   "cell_type": "code",
   "execution_count": 43,
   "id": "c2d00ad5-5224-445d-b2ac-7ad357da689c",
   "metadata": {},
   "outputs": [
    {
     "name": "stdout",
     "output_type": "stream",
     "text": [
      "3 datasets\n",
      "3 exchanges\n",
      "1 unlinked exchanges\n",
      "  Type biosphere: 1 unique unlinked exchanges\n"
     ]
    },
    {
     "data": {
      "text/plain": [
       "(3, 3, 1)"
      ]
     },
     "execution_count": 43,
     "metadata": {},
     "output_type": "execute_result"
    }
   ],
   "source": [
    "xl_importer.statistics()"
   ]
  },
  {
   "cell_type": "code",
   "execution_count": 44,
   "id": "4d01e5d5-c586-4493-b9bc-1d48a736eb76",
   "metadata": {},
   "outputs": [
    {
     "name": "stdout",
     "output_type": "stream",
     "text": [
      "{'name': 'Carbon Dioxide', 'amount': 0.11209439528023599, 'categories': ('air',), 'type': 'biosphere', 'minimum': 0.1, 'maximum': 0.12, 'uncertainty_type': 5}\n"
     ]
    }
   ],
   "source": [
    "for obj in xl_importer.unlinked:\n",
    "    print(obj)"
   ]
  },
  {
   "cell_type": "code",
   "execution_count": 45,
   "id": "0ae5aea5-e924-465b-99fd-1e819f26c704",
   "metadata": {},
   "outputs": [
    {
     "data": {
      "text/plain": [
       "'Carbon Dioxide' (None, GLO, ('air',))"
      ]
     },
     "execution_count": 45,
     "metadata": {},
     "output_type": "execute_result"
    }
   ],
   "source": [
    "co2"
   ]
  },
  {
   "cell_type": "code",
   "execution_count": 50,
   "id": "c603cd34",
   "metadata": {},
   "outputs": [
    {
     "data": {
      "text/plain": [
       "True"
      ]
     },
     "execution_count": 50,
     "metadata": {},
     "output_type": "execute_result"
    }
   ],
   "source": [
    "co2['name'] == obj['name']  # the name was the same"
   ]
  },
  {
   "cell_type": "code",
   "execution_count": 46,
   "id": "79b523cf-9890-482a-9c64-50763821631f",
   "metadata": {},
   "outputs": [
    {
     "name": "stdout",
     "output_type": "stream",
     "text": [
      "Applying strategy: link_iterable_by_fields\n"
     ]
    }
   ],
   "source": [
    "xl_importer.match_database(\"biosphere\", fields=['name'])"
   ]
  },
  {
   "cell_type": "code",
   "execution_count": 47,
   "id": "c0a4e88a-db1f-4420-b368-c0b0dca282b2",
   "metadata": {},
   "outputs": [
    {
     "name": "stdout",
     "output_type": "stream",
     "text": [
      "3 datasets\n",
      "3 exchanges\n",
      "0 unlinked exchanges\n",
      "  \n"
     ]
    },
    {
     "data": {
      "text/plain": [
       "(3, 3, 0)"
      ]
     },
     "execution_count": 47,
     "metadata": {},
     "output_type": "execute_result"
    }
   ],
   "source": [
    "xl_importer.statistics()"
   ]
  },
  {
   "cell_type": "code",
   "execution_count": 52,
   "id": "554d17ed",
   "metadata": {},
   "outputs": [
    {
     "name": "stdout",
     "output_type": "stream",
     "text": [
      "3 datasets\n",
      "3 exchanges\n",
      "0 unlinked exchanges\n",
      "  \n"
     ]
    },
    {
     "data": {
      "text/plain": [
       "True"
      ]
     },
     "execution_count": 52,
     "metadata": {},
     "output_type": "execute_result"
    }
   ],
   "source": [
    "xl_importer.all_linked"
   ]
  },
  {
   "cell_type": "code",
   "execution_count": 48,
   "id": "456636bb-063a-4cd3-8166-a0d891cc0bba",
   "metadata": {},
   "outputs": [
    {
     "name": "stderr",
     "output_type": "stream",
     "text": [
      "Writing activities to SQLite3 database:\n",
      "0% [###] 100% | ETA: 00:00:00\n",
      "Total time elapsed: 00:00:00\n"
     ]
    },
    {
     "name": "stdout",
     "output_type": "stream",
     "text": [
      "Title: Writing activities to SQLite3 database:\n",
      "  Started: 10/19/2021 10:40:02\n",
      "  Finished: 10/19/2021 10:40:02\n",
      "  Total time elapsed: 00:00:00\n",
      "  CPU %: 0.00\n",
      "  Memory %: 0.60\n",
      "Created database: mobility\n"
     ]
    }
   ],
   "source": [
    "xl_importer.write_database()"
   ]
  },
  {
   "cell_type": "code",
   "execution_count": null,
   "id": "9ba79356-d060-4e51-8b83-5bb8c7936aa3",
   "metadata": {},
   "outputs": [],
   "source": []
  }
 ],
 "metadata": {
  "kernelspec": {
   "display_name": "Python 3 (ipykernel)",
   "language": "python",
   "name": "python3"
  },
  "language_info": {
   "codemirror_mode": {
    "name": "ipython",
    "version": 3
   },
   "file_extension": ".py",
   "mimetype": "text/x-python",
   "name": "python",
   "nbconvert_exporter": "python",
   "pygments_lexer": "ipython3",
   "version": "3.9.7"
  }
 },
 "nbformat": 4,
 "nbformat_minor": 5
}
