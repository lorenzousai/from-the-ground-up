{
 "cells": [
  {
   "cell_type": "code",
   "execution_count": 1,
   "id": "0d966dd8-e5f3-4b20-be98-08feeda8a52f",
   "metadata": {},
   "outputs": [],
   "source": [
    "import bw2data as bd\n",
    "import bw2io as bi\n",
    "import bw2calc as bc\n",
    "import pandas as pd\n",
    "from scipy.special import expit\n",
    "from matplotlib import pyplot as plt\n",
    "import numpy as np\n",
    "import bw_processing as bwp\n",
    "from carculator import *\n",
    "\n",
    "import pandas as pd\n"
   ]
  },
  {
   "cell_type": "code",
   "execution_count": 2,
   "id": "a62f1ea5-d085-4fd4-84af-7d96002973e4",
   "metadata": {},
   "outputs": [],
   "source": [
    "def replacement(cf_mass):\n",
    "    return 5 - cf_mass * (1 + expit(cf_mass * 4 - 5)) + np.random.rand()"
   ]
  },
  {
   "cell_type": "code",
   "execution_count": 3,
   "id": "5e2b74f7-73e7-4983-a0f6-109e636eecd5",
   "metadata": {},
   "outputs": [],
   "source": [
    "class MyCoolAluminiumThing:\n",
    "    def __next__(self):\n",
    "        cf = np.random.rand() * 2.5\n",
    "        alu = replacement(cf)\n",
    "        return np.array([cf, alu])"
   ]
  },
  {
   "cell_type": "markdown",
   "id": "12e38db9-11b6-49e4-a443-8854f0395707",
   "metadata": {},
   "source": [
    "# Ecoinvent importer "
   ]
  },
  {
   "cell_type": "code",
   "execution_count": 4,
   "id": "ce3fe847-1348-475e-9f48-4836b4b9c1b6",
   "metadata": {},
   "outputs": [],
   "source": [
    "bd.projects.set_current(\"project\")"
   ]
  },
  {
   "cell_type": "code",
   "execution_count": 5,
   "id": "b3ca0ac1-64f1-4c65-8373-ad283afff007",
   "metadata": {},
   "outputs": [
    {
     "data": {
      "text/plain": [
       "Databases dictionary with 7 object(s):\n",
       "\tbiosphere3\n",
       "\tbiosphere_bev\n",
       "\tcarculator db\n",
       "\tecoinvent 3.7 cutoff\n",
       "\tecoinvent 3.7 runoff\n",
       "\tmobility\n",
       "\tnew_biosphere"
      ]
     },
     "execution_count": 5,
     "metadata": {},
     "output_type": "execute_result"
    }
   ],
   "source": [
    "bi.databases"
   ]
  },
  {
   "cell_type": "code",
   "execution_count": 6,
   "id": "8671f41b-b0f9-44d6-837f-9691833c8267",
   "metadata": {},
   "outputs": [
    {
     "name": "stdout",
     "output_type": "stream",
     "text": [
      "Vacuuming database \n",
      "Vacuuming database \n"
     ]
    }
   ],
   "source": [
    "if 'biosphere3' in bd.databases:\n",
    "    del bd.databases['biosphere3']\n",
    "    \n",
    "if 'ecoinvent 3.7 cutoff' in bd.databases:\n",
    "    del bd.databases['ecoinvent 3.7 cutoff']"
   ]
  },
  {
   "cell_type": "code",
   "execution_count": 14,
   "id": "38b00b19-84df-4f32-a573-bf3ce06f3bb3",
   "metadata": {},
   "outputs": [
    {
     "ename": "TypeError",
     "evalue": "bw2setup() got an unexpected keyword argument 'overwrite'",
     "output_type": "error",
     "traceback": [
      "\u001b[1;31m---------------------------------------------------------------------------\u001b[0m",
      "\u001b[1;31mTypeError\u001b[0m                                 Traceback (most recent call last)",
      "\u001b[1;32m~\\AppData\\Local\\Temp/ipykernel_16856/3863865104.py\u001b[0m in \u001b[0;36m<module>\u001b[1;34m\u001b[0m\n\u001b[1;32m----> 1\u001b[1;33m \u001b[0mbi\u001b[0m\u001b[1;33m.\u001b[0m\u001b[0mbw2setup\u001b[0m\u001b[1;33m(\u001b[0m\u001b[0moverwrite\u001b[0m \u001b[1;33m=\u001b[0m \u001b[1;32mTrue\u001b[0m\u001b[1;33m)\u001b[0m\u001b[1;33m\u001b[0m\u001b[1;33m\u001b[0m\u001b[0m\n\u001b[0m",
      "\u001b[1;31mTypeError\u001b[0m: bw2setup() got an unexpected keyword argument 'overwrite'"
     ]
    }
   ],
   "source": [
    "bi.bw2setup()"
   ]
  },
  {
   "cell_type": "code",
   "execution_count": 8,
   "id": "c4033b34-b35a-4c52-b3bf-7a1b771a7a82",
   "metadata": {},
   "outputs": [
    {
     "name": "stdout",
     "output_type": "stream",
     "text": [
      "Extracting XML data from 19128 datasets\n",
      "Extracted 19128 datasets in 120.97 seconds\n",
      "Applying strategy: normalize_units\n",
      "Applying strategy: update_ecoinvent_locations\n",
      "Applying strategy: remove_zero_amount_coproducts\n",
      "Applying strategy: remove_zero_amount_inputs_with_no_activity\n",
      "Applying strategy: remove_unnamed_parameters\n",
      "Applying strategy: es2_assign_only_product_with_amount_as_reference_product\n",
      "Applying strategy: assign_single_product_as_activity\n",
      "Applying strategy: create_composite_code\n",
      "Applying strategy: drop_unspecified_subcategories\n",
      "Applying strategy: fix_ecoinvent_flows_pre35\n",
      "Applying strategy: drop_temporary_outdated_biosphere_flows\n",
      "Applying strategy: link_biosphere_by_flow_uuid\n",
      "Applying strategy: link_internal_technosphere_by_composite_code\n",
      "Applying strategy: delete_exchanges_missing_activity\n",
      "1 exchanges couldn't be linked and were deleted. See the logfile for details:\n",
      "\tC:\\Users\\lorenzou\\AppData\\Local\\pylca\\Brightway3\\Logs\\project.46f86faa\\Ecospold2-import-error.hb8BKj.log\n",
      "Applying strategy: delete_ghost_exchanges\n",
      "Applying strategy: remove_uncertainty_from_negative_loss_exchanges\n",
      "Applying strategy: fix_unreasonably_high_lognormal_uncertainties\n",
      "Applying strategy: set_lognormal_loc_value\n",
      "Applying strategy: convert_activity_parameters_to_list\n",
      "Applying strategy: add_cpc_classification_from_single_reference_product\n",
      "Applying strategy: delete_none_synonyms\n",
      "Applied 21 strategies in 14.01 seconds\n",
      "19128 datasets\n",
      "621717 exchanges\n",
      "0 unlinked exchanges\n",
      "  \n"
     ]
    },
    {
     "data": {
      "text/plain": [
       "(19128, 621717, 0)"
      ]
     },
     "execution_count": 8,
     "metadata": {},
     "output_type": "execute_result"
    }
   ],
   "source": [
    "ei = bi.SingleOutputEcospold2Importer(r\"C:/Users/lorenzou/Box Sync/PhD work/Brightway/ei/datasets/\",\n",
    "                                           'ecoinvent 3.7 cutoff'\n",
    "                                          )\n",
    "ei.apply_strategies()\n",
    "ei.statistics()"
   ]
  },
  {
   "cell_type": "code",
   "execution_count": 9,
   "id": "9c6da2a9-33fc-4490-964e-b1abc01f0646",
   "metadata": {},
   "outputs": [
    {
     "name": "stdout",
     "output_type": "stream",
     "text": [
      "19128 datasets\n",
      "621717 exchanges\n",
      "0 unlinked exchanges\n",
      "  \n"
     ]
    },
    {
     "data": {
      "text/plain": [
       "True"
      ]
     },
     "execution_count": 9,
     "metadata": {},
     "output_type": "execute_result"
    }
   ],
   "source": [
    "ei.all_linked"
   ]
  },
  {
   "cell_type": "code",
   "execution_count": 10,
   "id": "db580eb9-1c50-4b45-b467-1b1717e8906d",
   "metadata": {},
   "outputs": [
    {
     "name": "stderr",
     "output_type": "stream",
     "text": [
      "Writing activities to SQLite3 database:\n",
      "0% [##############################] 100% | ETA: 00:00:00\n",
      "Total time elapsed: 00:01:08\n"
     ]
    },
    {
     "name": "stdout",
     "output_type": "stream",
     "text": [
      "Title: Writing activities to SQLite3 database:\n",
      "  Started: 10/20/2021 18:25:20\n",
      "  Finished: 10/20/2021 18:26:28\n",
      "  Total time elapsed: 00:01:08\n",
      "  CPU %: 74.80\n",
      "  Memory %: 22.55\n",
      "Created database: ecoinvent 3.7 cutoff\n"
     ]
    },
    {
     "data": {
      "text/plain": [
       "Brightway2 SQLiteBackend: ecoinvent 3.7 cutoff"
      ]
     },
     "execution_count": 10,
     "metadata": {},
     "output_type": "execute_result"
    }
   ],
   "source": [
    "ei.write_database()"
   ]
  },
  {
   "cell_type": "code",
   "execution_count": 11,
   "id": "d3a2d95c-b67e-49b8-b813-4c05b0fa1ff9",
   "metadata": {},
   "outputs": [],
   "source": [
    "truck = [x for x in ei if x['name'] == 'transport, freight, lorry >32 metric ton, EURO5'][0]"
   ]
  },
  {
   "cell_type": "markdown",
   "id": "463a7cf0-ee1c-4ef4-ae2c-ba570f024a71",
   "metadata": {},
   "source": [
    "# Read data from carculator"
   ]
  },
  {
   "cell_type": "code",
   "execution_count": 18,
   "id": "dc81e801-fea8-4e5e-8a27-f2516d008b6b",
   "metadata": {},
   "outputs": [],
   "source": [
    "biosphere = bd.Database('biosphere3')\n",
    "biosphere.register()"
   ]
  },
  {
   "cell_type": "code",
   "execution_count": 20,
   "id": "d1244393-ef78-4f2e-8020-caba6e2771c1",
   "metadata": {},
   "outputs": [],
   "source": [
    "ei = bd.Database('ecoinvent 3.7 cutoff')\n",
    "ei.register()"
   ]
  },
  {
   "cell_type": "code",
   "execution_count": 21,
   "id": "8185dd5a-d406-43a0-9723-8430bdbcc7c0",
   "metadata": {},
   "outputs": [],
   "source": [
    "truck = [x for x in ei if x['name'] == 'transport, freight, lorry >32 metric ton, EURO5'][0]"
   ]
  },
  {
   "cell_type": "code",
   "execution_count": 34,
   "id": "081d0776-32a7-45a5-940e-11ad2a98998a",
   "metadata": {},
   "outputs": [
    {
     "data": {
      "text/plain": [
       "'73fcf60f-68e7-491e-b1f0-a5cae0c99d95'"
      ]
     },
     "execution_count": 34,
     "metadata": {},
     "output_type": "execute_result"
    }
   ],
   "source": [
    "truck['activity']"
   ]
  },
  {
   "cell_type": "code",
   "execution_count": null,
   "id": "8ac24085-d21f-44e8-a764-093f639ce432",
   "metadata": {},
   "outputs": [],
   "source": [
    "data = {\n",
    "    'code':'el_vehicle',\n",
    "    'name':'EV',\n",
    "    'location':'RER',\n",
    "    'code':'vehicle',\n",
    "    'unit':'piece'\n",
    "    'exchanges':[{\n",
    "        \n",
    "    "
   ]
  },
  {
   "cell_type": "code",
   "execution_count": null,
   "id": "add2d710-2cb8-4aab-911e-73332b00d7b4",
   "metadata": {},
   "outputs": [],
   "source": []
  },
  {
   "cell_type": "code",
   "execution_count": null,
   "id": "48774778-cf6e-4d46-8b0c-226bc3287d89",
   "metadata": {},
   "outputs": [],
   "source": []
  },
  {
   "cell_type": "code",
   "execution_count": null,
   "id": "0ae81c8e-9cf4-4d12-8e3f-ffa68564943c",
   "metadata": {},
   "outputs": [],
   "source": []
  },
  {
   "cell_type": "code",
   "execution_count": null,
   "id": "5be77f2c-b1ba-4508-8769-d7b1fc5e10be",
   "metadata": {},
   "outputs": [],
   "source": []
  },
  {
   "cell_type": "code",
   "execution_count": null,
   "id": "a3362ad5-6d47-4477-a977-d012e63c6306",
   "metadata": {},
   "outputs": [],
   "source": []
  },
  {
   "cell_type": "code",
   "execution_count": null,
   "id": "15befcd2-e40a-4986-aa84-9bf1a8924511",
   "metadata": {},
   "outputs": [],
   "source": []
  },
  {
   "cell_type": "code",
   "execution_count": null,
   "id": "ba6c1202-27ac-4c37-b737-97f948350c7f",
   "metadata": {},
   "outputs": [],
   "source": []
  },
  {
   "cell_type": "code",
   "execution_count": null,
   "id": "bdd5122e-b9ad-4b24-9e7f-566b539b5a37",
   "metadata": {},
   "outputs": [],
   "source": []
  },
  {
   "cell_type": "code",
   "execution_count": null,
   "id": "1c490d87-230d-4ce1-a663-4a17de0a2f7e",
   "metadata": {},
   "outputs": [],
   "source": []
  }
 ],
 "metadata": {
  "kernelspec": {
   "display_name": "Python 3 (ipykernel)",
   "language": "python",
   "name": "python3"
  },
  "language_info": {
   "codemirror_mode": {
    "name": "ipython",
    "version": 3
   },
   "file_extension": ".py",
   "mimetype": "text/x-python",
   "name": "python",
   "nbconvert_exporter": "python",
   "pygments_lexer": "ipython3",
   "version": "3.9.7"
  }
 },
 "nbformat": 4,
 "nbformat_minor": 5
}
