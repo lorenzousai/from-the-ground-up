{
 "cells": [
  {
   "cell_type": "code",
   "execution_count": 75,
   "id": "0d966dd8-e5f3-4b20-be98-08feeda8a52f",
   "metadata": {},
   "outputs": [],
   "source": [
    "import bw2data as bd\n",
    "import bw2io as bi\n",
    "import bw2calc as bc\n",
    "import pandas as pd\n",
    "from scipy.special import expit\n",
    "from matplotlib import pyplot as plt\n",
    "import numpy as np\n",
    "import bw_processing as bwp\n",
    "from carculator import *\n",
    "\n",
    "from bw_processing import load_datapackage\n",
    "from fs.zipfs import ZipFS\n",
    "\n",
    "import pandas as pd\n"
   ]
  },
  {
   "cell_type": "code",
   "execution_count": 246,
   "id": "a62f1ea5-d085-4fd4-84af-7d96002973e4",
   "metadata": {},
   "outputs": [],
   "source": [
    "def replacement(steel_am):\n",
    "    return (1300 - steel_am)/2"
   ]
  },
  {
   "cell_type": "code",
   "execution_count": 330,
   "id": "5e2b74f7-73e7-4983-a0f6-109e636eecd5",
   "metadata": {},
   "outputs": [],
   "source": [
    "class MyCoolAluminiumThing:\n",
    "    def __next__(self):\n",
    "        steel_new = 1300 - np.random.randint(50,300)\n",
    "        alu = replacement(steel_new)\n",
    "        return np.array([steel_new, alu])"
   ]
  },
  {
   "cell_type": "markdown",
   "id": "12e38db9-11b6-49e4-a443-8854f0395707",
   "metadata": {},
   "source": [
    "# Ecoinvent importer "
   ]
  },
  {
   "cell_type": "code",
   "execution_count": 331,
   "id": "f0d04552-6325-41e3-ab88-c1c65031980e",
   "metadata": {},
   "outputs": [
    {
     "data": {
      "text/plain": [
       "array([1212.,   44.])"
      ]
     },
     "execution_count": 331,
     "metadata": {},
     "output_type": "execute_result"
    }
   ],
   "source": [
    "interf = MyCoolAluminiumThing()\n",
    "next(interf)"
   ]
  },
  {
   "cell_type": "markdown",
   "id": "5d8d10ba-d996-4ea4-a586-862d26181f68",
   "metadata": {},
   "source": [
    "bd.projects.delete_project('project')"
   ]
  },
  {
   "cell_type": "code",
   "execution_count": 4,
   "id": "ce3fe847-1348-475e-9f48-4836b4b9c1b6",
   "metadata": {},
   "outputs": [],
   "source": [
    "bd.projects.set_current(\"new_test2\")"
   ]
  },
  {
   "cell_type": "code",
   "execution_count": 5,
   "id": "7d81ec6c-bc8e-4d2e-a055-251efab214c6",
   "metadata": {},
   "outputs": [
    {
     "data": {
      "text/plain": [
       "Databases dictionary with 0 objects"
      ]
     },
     "execution_count": 5,
     "metadata": {},
     "output_type": "execute_result"
    }
   ],
   "source": [
    "bi.databases"
   ]
  },
  {
   "cell_type": "code",
   "execution_count": 6,
   "id": "3f12e682-82db-47ff-ba08-9a0f0afa9001",
   "metadata": {},
   "outputs": [],
   "source": [
    "if 'biosphere3' in bd.databases:\n",
    "    del bd.databases['biosphere3']\n",
    "    \n",
    "if 'ecoinvent 3.7 cutoff' in bd.databases:\n",
    "    del bd.databases['ecoinvent 3.7 cutoff']"
   ]
  },
  {
   "cell_type": "code",
   "execution_count": 7,
   "id": "a054f2a7-3221-4e3d-be48-142f712f88de",
   "metadata": {},
   "outputs": [
    {
     "name": "stdout",
     "output_type": "stream",
     "text": [
      "Creating default biosphere\n",
      "\n"
     ]
    },
    {
     "name": "stderr",
     "output_type": "stream",
     "text": [
      "Writing activities to SQLite3 database:\n"
     ]
    },
    {
     "name": "stdout",
     "output_type": "stream",
     "text": [
      "Applying strategy: normalize_units\n",
      "Applying strategy: drop_unspecified_subcategories\n",
      "Applying strategy: ensure_categories_are_tuples\n",
      "Applied 3 strategies in 0.01 seconds\n"
     ]
    },
    {
     "name": "stderr",
     "output_type": "stream",
     "text": [
      "0% [##############################] 100% | ETA: 00:00:00\n",
      "Total time elapsed: 00:00:00\n"
     ]
    },
    {
     "name": "stdout",
     "output_type": "stream",
     "text": [
      "Title: Writing activities to SQLite3 database:\n",
      "  Started: 10/21/2021 11:38:41\n",
      "  Finished: 10/21/2021 11:38:41\n",
      "  Total time elapsed: 00:00:00\n",
      "  CPU %: 93.70\n",
      "  Memory %: 1.18\n",
      "Created database: biosphere3\n",
      "Creating default LCIA methods\n",
      "\n",
      "Applying strategy: normalize_units\n",
      "Applying strategy: set_biosphere_type\n",
      "Applying strategy: fix_ecoinvent_38_lcia_implementation\n",
      "Applying strategy: drop_unspecified_subcategories\n",
      "Applying strategy: link_iterable_by_fields\n",
      "Applied 5 strategies in 2.38 seconds\n",
      "Wrote 975 LCIA methods with 254388 characterization factors\n",
      "Creating core data migrations\n",
      "\n"
     ]
    }
   ],
   "source": [
    "bi.bw2setup()"
   ]
  },
  {
   "cell_type": "code",
   "execution_count": 8,
   "id": "f4e5cf3a-4208-41bd-8c6d-ba71fbea9531",
   "metadata": {},
   "outputs": [
    {
     "name": "stdout",
     "output_type": "stream",
     "text": [
      "Extracting XML data from 19128 datasets\n",
      "Extracted 19128 datasets in 146.94 seconds\n",
      "Applying strategy: normalize_units\n",
      "Applying strategy: update_ecoinvent_locations\n",
      "Applying strategy: remove_zero_amount_coproducts\n",
      "Applying strategy: remove_zero_amount_inputs_with_no_activity\n",
      "Applying strategy: remove_unnamed_parameters\n",
      "Applying strategy: es2_assign_only_product_with_amount_as_reference_product\n",
      "Applying strategy: assign_single_product_as_activity\n",
      "Applying strategy: create_composite_code\n",
      "Applying strategy: drop_unspecified_subcategories\n",
      "Applying strategy: fix_ecoinvent_flows_pre35\n",
      "Applying strategy: drop_temporary_outdated_biosphere_flows\n",
      "Applying strategy: link_biosphere_by_flow_uuid\n",
      "Applying strategy: link_internal_technosphere_by_composite_code\n",
      "Applying strategy: delete_exchanges_missing_activity\n",
      "1 exchanges couldn't be linked and were deleted. See the logfile for details:\n",
      "\tC:\\Users\\lorenzou\\AppData\\Local\\pylca\\Brightway3\\Logs\\new_test2.d76c312f\\Ecospold2-import-error.SlsiLR.log\n",
      "Applying strategy: delete_ghost_exchanges\n",
      "Applying strategy: remove_uncertainty_from_negative_loss_exchanges\n",
      "Applying strategy: fix_unreasonably_high_lognormal_uncertainties\n",
      "Applying strategy: set_lognormal_loc_value\n",
      "Applying strategy: convert_activity_parameters_to_list\n",
      "Applying strategy: add_cpc_classification_from_single_reference_product\n",
      "Applying strategy: delete_none_synonyms\n",
      "Applied 21 strategies in 11.41 seconds\n",
      "19128 datasets\n",
      "621717 exchanges\n",
      "0 unlinked exchanges\n",
      "  \n"
     ]
    },
    {
     "data": {
      "text/plain": [
       "(19128, 621717, 0)"
      ]
     },
     "execution_count": 8,
     "metadata": {},
     "output_type": "execute_result"
    }
   ],
   "source": [
    "ei = bi.SingleOutputEcospold2Importer(r\"C:/Users/lorenzou/Box Sync/PhD work/Brightway/ei/datasets/\",\n",
    "                                           'ecoinvent 3.7 cutoff'\n",
    "                                          )\n",
    "ei.apply_strategies()\n",
    "ei.statistics()"
   ]
  },
  {
   "cell_type": "code",
   "execution_count": 14,
   "id": "88e041a9-f31c-4789-a59e-4676c40bb166",
   "metadata": {},
   "outputs": [
    {
     "ename": "AttributeError",
     "evalue": "'SQLiteBackend' object has no attribute 'all_linked'",
     "output_type": "error",
     "traceback": [
      "\u001b[1;31m---------------------------------------------------------------------------\u001b[0m",
      "\u001b[1;31mAttributeError\u001b[0m                            Traceback (most recent call last)",
      "\u001b[1;32m~\\AppData\\Local\\Temp/ipykernel_17244/4182657706.py\u001b[0m in \u001b[0;36m<module>\u001b[1;34m\u001b[0m\n\u001b[1;32m----> 1\u001b[1;33m \u001b[0mei\u001b[0m\u001b[1;33m.\u001b[0m\u001b[0mall_linked\u001b[0m\u001b[1;33m\u001b[0m\u001b[1;33m\u001b[0m\u001b[0m\n\u001b[0m",
      "\u001b[1;31mAttributeError\u001b[0m: 'SQLiteBackend' object has no attribute 'all_linked'"
     ]
    }
   ],
   "source": [
    "ei.all_linked"
   ]
  },
  {
   "cell_type": "code",
   "execution_count": 15,
   "id": "53796607-95c3-4ae0-945e-93ddfa65222f",
   "metadata": {},
   "outputs": [
    {
     "ename": "AttributeError",
     "evalue": "'SQLiteBackend' object has no attribute 'write_database'",
     "output_type": "error",
     "traceback": [
      "\u001b[1;31m---------------------------------------------------------------------------\u001b[0m",
      "\u001b[1;31mAttributeError\u001b[0m                            Traceback (most recent call last)",
      "\u001b[1;32m~\\AppData\\Local\\Temp/ipykernel_17244/38478418.py\u001b[0m in \u001b[0;36m<module>\u001b[1;34m\u001b[0m\n\u001b[1;32m----> 1\u001b[1;33m \u001b[0mei\u001b[0m\u001b[1;33m.\u001b[0m\u001b[0mwrite_database\u001b[0m\u001b[1;33m(\u001b[0m\u001b[1;33m)\u001b[0m\u001b[1;33m\u001b[0m\u001b[1;33m\u001b[0m\u001b[0m\n\u001b[0m",
      "\u001b[1;31mAttributeError\u001b[0m: 'SQLiteBackend' object has no attribute 'write_database'"
     ]
    }
   ],
   "source": [
    "ei.write_database()"
   ]
  },
  {
   "cell_type": "code",
   "execution_count": 208,
   "id": "4f2fad25-9bc7-4b1b-bc9c-10a073a3a5f6",
   "metadata": {},
   "outputs": [],
   "source": [
    "biosphere = bd.Database('biosphere3')\n",
    "biosphere.register()"
   ]
  },
  {
   "cell_type": "code",
   "execution_count": 17,
   "id": "5f98f332-c56a-488d-9dd0-82ba4a46079f",
   "metadata": {},
   "outputs": [],
   "source": [
    "ei = bd.Database('ecoinvent 3.7 cutoff')\n",
    "ei.register()"
   ]
  },
  {
   "cell_type": "markdown",
   "id": "f2febcfc-0a2a-4109-87ef-c88ae01d5bc6",
   "metadata": {},
   "source": [
    "# Read data from carculator - LOL"
   ]
  },
  {
   "cell_type": "code",
   "execution_count": 20,
   "id": "8ac24085-d21f-44e8-a764-093f639ce432",
   "metadata": {},
   "outputs": [],
   "source": [
    "ele = ei.search('market for electricity, low-voltage RER')"
   ]
  },
  {
   "cell_type": "code",
   "execution_count": 21,
   "id": "d0918c38-6e7f-455d-a260-1db2bae10737",
   "metadata": {},
   "outputs": [
    {
     "name": "stdout",
     "output_type": "stream",
     "text": [
      "'market for steel, unalloyed' (kilogram, GLO, None)\n",
      "'market for steel, chromium steel 18/8, hot rolled' (kilogram, GLO, None)\n",
      "'market for steel, low-alloyed, hot rolled' (kilogram, GLO, None)\n",
      "'market for steel, low-alloyed' (kilogram, GLO, None)\n",
      "'market for steel, chromium steel 18/8' (kilogram, GLO, None)\n"
     ]
    }
   ],
   "source": [
    "for act in [act for act in ei if 'market for steel,' in act['name']]:\n",
    "    print(act)"
   ]
  },
  {
   "cell_type": "code",
   "execution_count": 22,
   "id": "a9fbadb6-916e-4874-8d3b-87cb71fdd7ae",
   "metadata": {
    "collapsed": true,
    "jupyter": {
     "outputs_hidden": true
    },
    "tags": []
   },
   "outputs": [
    {
     "name": "stdout",
     "output_type": "stream",
     "text": [
      "'aluminium oxide production' (kilogram, CN, None)\n",
      "'anode production, paste, for aluminium electrolysis' (kilogram, IAI Area, Russia & RER w/o EU27 & EFTA, None)\n",
      "'aluminium hydroxide production' (kilogram, RNA, None)\n",
      "'electricity production, coal, aluminium industry' (kilowatt hour, UN-OCEANIA, None)\n",
      "'treatment of aluminium scrap, post-consumer, prepared for recycling, at refiner' (kilogram, RoW, None)\n",
      "'aluminium scrap, post-consumer, prepared for melting, Recycled Content cut-off' (kilogram, GLO, None)\n",
      "'market for cladding, crossbar-pole, aluminium' (square meter, GLO, None)\n",
      "'aluminium milling, average' (kilogram, RER, None)\n",
      "'aluminium around steel bi-metal stranded cable production, 3x3.67mm external diameter wire' (meter, RoW, None)\n",
      "'door production, outer, wood-aluminium' (square meter, RoW, None)\n",
      "'aluminium oxide production' (kilogram, UN-OCEANIA, None)\n",
      "'market for scrap aluminium' (kilogram, CH, None)\n",
      "'aluminium oxide factory construction' (unit, RER, None)\n",
      "'aluminium production, primary, ingot' (kilogram, IAI Area, South America, None)\n",
      "'market for aluminium scrap, new' (kilogram, RoW, None)\n",
      "'aluminium oxide production' (kilogram, IAI Area, EU27 & EFTA, None)\n",
      "'exhaust air outlet production, steel/aluminium, 85x365 mm' (unit, CH, None)\n",
      "'window frame production, aluminium, U=1.6 W/m2K' (square meter, RER, None)\n",
      "'aluminium around steel bi-metal stranded cable production, 3x3.67mm external diameter wire' (meter, CA-QC, None)\n",
      "'anodising, aluminium sheet' (square meter, RER, None)\n",
      "'electricity production, oil, aluminium industry' (kilowatt hour, UN-OCEANIA, None)\n",
      "'aluminium oxide production' (kilogram, IAI Area, South America, None)\n",
      "'market for aluminium, primary, liquid' (kilogram, GLO, None)\n",
      "'market for door, outer, wood-aluminium' (square meter, GLO, None)\n",
      "'section bar extrusion, aluminium' (kilogram, RER, None)\n",
      "'market for impact extrusion of aluminium, 1 stroke' (kilogram, GLO, None)\n",
      "'treatment of aluminium scrap, post-consumer, prepared for recycling, at remelter' (kilogram, RoW, None)\n",
      "'anode production, paste, for aluminium electrolysis' (kilogram, RoW, None)\n",
      "'market for gallium, in Bayer liquor from aluminium production' (kilogram, GLO, None)\n",
      "'aluminium production, primary, liquid, prebake' (kilogram, IAI Area, Gulf Cooperation Council, None)\n",
      "'impact extrusion of aluminium, 3 strokes' (kilogram, RER, None)\n",
      "'aluminium casting facility construction' (unit, RoW, None)\n",
      "'market for aluminium, primary, cast alloy slab from continuous casting' (kilogram, GLO, None)\n",
      "'electricity voltage transformation from high to medium voltage, aluminium industry' (kilowatt hour, IAI Area, Russia & RER w/o EU27 & EFTA, None)\n",
      "'aluminium, in mixed metal scrap, Recycled Content cut-off' (kilogram, GLO, None)\n",
      "'aluminium production, primary, liquid, prebake' (kilogram, CA, None)\n",
      "'market for used door, outer, wood-aluminium' (square meter, GLO, None)\n",
      "'treatment of aluminium in car shredder residue, municipal incineration with fly ash extraction' (kilogram, CH, None)\n",
      "'anode production, paste, for aluminium electrolysis' (kilogram, IAI Area, Africa, None)\n",
      "'flexible duct production, aluminium/PET, DN of 125' (meter, RER, None)\n",
      "'aluminium turning, primarily roughing, computer numerical controlled' (kilogram, RoW, None)\n",
      "'sealing tape production, aluminium/PE, 50 mm wide' (meter, RER, None)\n",
      "'cladding production, crossbar-pole, aluminium' (square meter, RER, None)\n",
      "'market for electricity, medium voltage, aluminium industry' (kilowatt hour, IAI Area, Asia, without China and GCC, None)\n",
      "'aluminium drilling, conventional' (kilogram, RoW, None)\n",
      "'aluminium, ingot, primary, import from Middle East (Gulf cooperation Council)' (kilogram, IAI Area, EU27 & EFTA, None)\n",
      "'aluminium production, primary, liquid, prebake' (kilogram, IAI Area, EU27 & EFTA, None)\n",
      "'electricity production, natural gas, aluminium industry' (kilowatt hour, IAI Area, Gulf Cooperation Council, None)\n",
      "'electricity production, hydro, aluminium industry' (kilowatt hour, CA, None)\n",
      "'market for metallization paste, back side, aluminium' (kilogram, RER, None)\n",
      "'aluminium production, primary, liquid, prebake' (kilogram, IAI Area, Russia & RER w/o EU27 & EFTA, None)\n",
      "'electricity voltage transformation from high to medium voltage, aluminium industry' (kilowatt hour, IAI Area, Africa, None)\n",
      "'treatment of aluminium in car shredder residue, municipal incineration' (kilogram, RoW, None)\n",
      "'market for electricity, medium voltage, aluminium industry' (kilowatt hour, IAI Area, South America, None)\n",
      "'market for scrap aluminium' (kilogram, Europe without Switzerland, None)\n",
      "'aluminium milling, large parts' (kilogram, RoW, None)\n",
      "'treatment of aluminium in car shredder residue, municipal incineration' (kilogram, CH, None)\n",
      "'market for aluminium, wrought alloy' (kilogram, GLO, None)\n",
      "'market for aluminium removed by milling, dressing' (kilogram, GLO, None)\n",
      "'market for aluminium around steel bi-metal wire, 3.67mm external diameter' (meter, GLO, None)\n",
      "'treatment of scrap aluminium, municipal incineration' (kilogram, RoW, None)\n",
      "'market for anode, prebake, for aluminium electrolysis' (kilogram, GLO, None)\n",
      "'market for exhaust air outlet, steel/aluminium, 85x365 mm' (unit, GLO, None)\n",
      "'aluminium turning, primarily dressing, computer numerical controlled' (kilogram, RER, None)\n",
      "'aluminium alloy production, Metallic Matrix Composite' (kilogram, RoW, None)\n",
      "'market for section bar extrusion, aluminium' (kilogram, GLO, None)\n",
      "'market for electricity, medium voltage, aluminium industry' (kilowatt hour, RoW, None)\n",
      "'aluminium production, primary, liquid, Söderberg' (kilogram, IAI Area, South America, None)\n",
      "'market for sealing tape, aluminium/PE, 50 mm wide' (meter, GLO, None)\n",
      "'market for powder coat, aluminium sheet' (square meter, GLO, None)\n",
      "'aluminium alloy production, AlLi' (kilogram, RoW, None)\n",
      "'market for aluminium removed by turning, primarily dressing, computer numerical controlled' (kilogram, GLO, None)\n",
      "'electricity production, coal, aluminium industry' (kilowatt hour, CN, None)\n",
      "'impact extrusion of aluminium, 2 strokes' (kilogram, RoW, None)\n",
      "'treatment of scrap aluminium, municipal incineration' (kilogram, Europe without Switzerland, None)\n",
      "'market for aluminium around steel bi-metal stranded cable, 3x3.67mm external diameter wire' (meter, GLO, None)\n",
      "'market for used sealing tape aluminium/PE, 50 mm wide' (meter, CH, None)\n",
      "'electricity voltage transformation from high to medium voltage, aluminium industry' (kilowatt hour, IAI Area, EU27 & EFTA, None)\n",
      "'aluminium production, primary, ingot' (kilogram, CN, None)\n",
      "'impact extrusion of aluminium, 2 strokes' (kilogram, RER, None)\n",
      "'aluminium, ingot, primary, import from Africa' (kilogram, IAI Area, EU27 & EFTA, None)\n",
      "'aluminium turning, primarily roughing, conventional' (kilogram, RoW, None)\n",
      "'market for metallization paste, back side, aluminium' (kilogram, RoW, None)\n",
      "'aluminium production, primary, liquid, prebake' (kilogram, IAI Area, Africa, None)\n",
      "'aluminium production, primary, liquid, prebake' (kilogram, UN-OCEANIA, None)\n",
      "'electricity production, coal, aluminium industry' (kilowatt hour, IAI Area, Russia & RER w/o EU27 & EFTA, None)\n",
      "'powder coating, aluminium sheet' (square meter, RER, None)\n",
      "'welding, arc, aluminium' (meter, RoW, None)\n",
      "'market for aluminium scrap, post-consumer' (kilogram, GLO, None)\n",
      "'impact extrusion of aluminium, 4 strokes' (kilogram, RER, None)\n",
      "'market for impact extrusion of aluminium, deformation stroke' (kilogram, GLO, None)\n",
      "'market for electricity, high voltage, aluminium industry' (kilowatt hour, CA, None)\n",
      "'aluminium alloy production, Metallic Matrix Composite' (kilogram, CA-QC, None)\n",
      "'treatment of aluminium scrap, post-consumer, by collecting, sorting, cleaning, pressing' (kilogram, RoW, None)\n",
      "'aluminium, ingot, primary, import from Oceania' (kilogram, IAI Area, EU27 & EFTA, None)\n",
      "'electricity production, coal, aluminium industry' (kilowatt hour, IAI Area, EU27 & EFTA, None)\n",
      "'metallization paste production, back side, aluminium' (kilogram, RoW, None)\n",
      "'aluminium, ingot, primary, import from Asia (excluding China)' (kilogram, IAI Area, EU27 & EFTA, None)\n",
      "'polyaluminium chloride production' (kilogram, GLO, None)\n",
      "'market for aluminium sulfate, without water, in 4.33% aluminium solution state' (kilogram, GLO, None)\n",
      "'aluminium, ingot, primary, import from Rest of Europe' (kilogram, IAI Area, EU27 & EFTA, None)\n",
      "'aluminium ingot, primary, to aluminium, cast alloy market' (kilogram, GLO, None)\n",
      "'market for aluminium oxide, non-metallurgical' (kilogram, IAI Area, EU27 & EFTA, None)\n",
      "'impact extrusion of aluminium, 4 strokes' (kilogram, RoW, None)\n",
      "'aluminium production, primary, liquid, prebake' (kilogram, RoW, None)\n",
      "'market for aluminium, primary, ingot' (kilogram, RoW, None)\n",
      "'aluminium milling, large parts' (kilogram, RER, None)\n",
      "'electricity voltage transformation from high to medium voltage, aluminium industry' (kilowatt hour, IAI Area, Asia, without China and GCC, None)\n",
      "'aluminium ingot, primary, to aluminium, wrought alloy market' (kilogram, GLO, None)\n",
      "'market for electricity, high voltage, aluminium industry' (kilowatt hour, IAI Area, Africa, None)\n",
      "'electricity production, natural gas, aluminium industry' (kilowatt hour, IAI Area, South America, None)\n",
      "'aluminium alloy production, Metallic Matrix Composite' (kilogram, RoW, None)\n",
      "'aluminium oxide, non-metallurgical to generic market for refractory material, acid' (kilogram, RoW, None)\n",
      "'market for aluminium, in mixed metal scrap' (kilogram, Europe without Switzerland, None)\n",
      "'welding, arc, aluminium' (meter, RER, None)\n",
      "'market for aluminium removed by turning, average, conventional' (kilogram, GLO, None)\n",
      "'aluminium production, primary, cast alloy slab from continuous casting' (kilogram, CA-QC, None)\n",
      "'market for electricity, high voltage, aluminium industry' (kilowatt hour, IAI Area, South America, None)\n",
      "'market for aluminium removed by drilling, conventional' (kilogram, GLO, None)\n",
      "'electricity production, oil, aluminium industry' (kilowatt hour, IAI Area, EU27 & EFTA, None)\n",
      "'aluminium milling, small parts' (kilogram, RoW, None)\n",
      "'market for aluminium fluoride' (kilogram, GLO, None)\n",
      "'treatment of used door, outer, wood-aluminium, collection for final disposal' (square meter, CH, None)\n",
      "'aluminium oxide, non-metallurgical to generic market for refractory material, acid' (kilogram, IAI Area, EU27 & EFTA, None)\n",
      "'electricity production, hydro, aluminium industry' (kilowatt hour, IAI Area, Asia, without China and GCC, None)\n",
      "'aluminium oxide, metallurgical, import from Northern America' (kilogram, IAI Area, EU27 & EFTA, None)\n",
      "'aluminium turning, average, conventional' (kilogram, RoW, None)\n",
      "'aluminium electrolysis facility construction' (unit, RER, None)\n",
      "'sheet rolling, aluminium' (kilogram, RoW, None)\n",
      "'market for aluminium removed by turning, primarily roughing, conventional' (kilogram, GLO, None)\n",
      "'market for aluminium removed by drilling, computer numerical controlled' (kilogram, GLO, None)\n",
      "'market for aluminium sulfate, powder' (kilogram, RoW, None)\n",
      "'treatment of aluminium scrap, new, at refiner' (kilogram, RoW, None)\n",
      "'electricity voltage transformation from high to medium voltage, aluminium industry' (kilowatt hour, RoW, None)\n",
      "'cathode production, for aluminium electrolysis' (kilogram, RoW, None)\n",
      "'market for electricity, high voltage, aluminium industry' (kilowatt hour, RoW, None)\n",
      "'anode production, prebake, for aluminium electrolysis' (kilogram, IAI Area, EU27 & EFTA, None)\n",
      "'aluminium around steel bi-metal wire production, 3.67 mm external diameter' (meter, RoW, None)\n",
      "'aluminium turning, average, conventional' (kilogram, RER, None)\n",
      "'market for aluminium oxide, non-metallurgical' (kilogram, RoW, None)\n",
      "'aluminium production, primary, liquid, Söderberg' (kilogram, IAI Area, Asia, without China and GCC, None)\n",
      "'aluminium sulfate production, without water, in 4.33% aluminium solution state' (kilogram, RoW, None)\n",
      "'aluminium around steel bi-metal wire production, 3.67 mm external diameter' (meter, CA-QC, None)\n",
      "'market for anode, paste, for aluminium electrolysis' (kilogram, GLO, None)\n",
      "'aluminium production, primary, ingot' (kilogram, IAI Area, Africa, None)\n",
      "'treatment of waste aluminium, sanitary landfill' (kilogram, RoW, None)\n",
      "'market for aluminium alloy, metal matrix composite' (kilogram, GLO, None)\n",
      "'market for aluminium hydroxide' (kilogram, GLO, None)\n",
      "'market for polyaluminium chloride' (kilogram, GLO, None)\n",
      "'aluminium, ingot, primary, import from Africa' (kilogram, IAI Area, North America, None)\n",
      "'electricity production, nuclear, aluminium industry' (kilowatt hour, RNA, None)\n",
      "'electricity production, natural gas, aluminium industry' (kilowatt hour, IAI Area, EU27 & EFTA, None)\n",
      "'aluminium oxide production' (kilogram, IAI Area, EU27 & EFTA, None)\n",
      "'aluminium turning, average, computer numerical controlled' (kilogram, RoW, None)\n",
      "'electricity production, oil, aluminium industry' (kilowatt hour, IAI Area, Gulf Cooperation Council, None)\n",
      "'impact extrusion of aluminium, 1 stroke' (kilogram, RoW, None)\n",
      "'aluminium chloride production' (kilogram, GLO, None)\n",
      "'aluminium oxide production' (kilogram, CN, None)\n",
      "'aluminium oxide production' (kilogram, IAI Area, Russia & RER w/o EU27 & EFTA, None)\n",
      "'selective coating, aluminium sheet, nickel pigmented aluminium oxide' (square meter, SK, None)\n",
      "'section bar extrusion, aluminium' (kilogram, RoW, None)\n",
      "'electricity production, coal, aluminium industry' (kilowatt hour, IAI Area, Asia, without China and GCC, None)\n",
      "'aluminium oxide production' (kilogram, IAI Area, Asia, without China and GCC, None)\n",
      "'aluminium sulfate production, powder' (kilogram, RER, None)\n",
      "'treatment of aluminium scrap, post-consumer, by collecting, sorting, cleaning, pressing' (kilogram, RER, None)\n",
      "'anode production, prebake, for aluminium electrolysis' (kilogram, RoW, None)\n",
      "'aluminium oxide production' (kilogram, IAI Area, South America, None)\n",
      "'aluminium production, primary, liquid, prebake' (kilogram, CN, None)\n",
      "'market for aluminium oxide factory' (unit, GLO, None)\n",
      "'electricity voltage transformation from high to medium voltage, aluminium industry' (kilowatt hour, CN, None)\n",
      "'market for aluminium in car shredder residue' (kilogram, RoW, None)\n",
      "'aluminium production, primary, ingot' (kilogram, IAI Area, Gulf Cooperation Council, None)\n",
      "'market for aluminium scrap, post-consumer, prepared for melting' (kilogram, GLO, None)\n",
      "'market for impact extrusion of aluminium, 3 strokes' (kilogram, GLO, None)\n",
      "'aluminium turning, primarily dressing, conventional' (kilogram, RER, None)\n",
      "'anode production, prebake, for aluminium electrolysis' (kilogram, CA, None)\n",
      "'casting, aluminium, lost-wax' (kilogram, RoW, None)\n",
      "'market for electricity, medium voltage, aluminium industry' (kilowatt hour, UN-OCEANIA, None)\n",
      "'aluminium production, primary, ingot' (kilogram, IAI Area, EU27 & EFTA, None)\n",
      "'sheet rolling, aluminium' (kilogram, RER, None)\n",
      "'market for aluminium removed by turning, primarily roughing, computer numerical controlled' (kilogram, GLO, None)\n",
      "'impact extrusion of aluminium, cold, tempering' (kilogram, RoW, None)\n",
      "'treatment of aluminium scrap, new, at remelter' (kilogram, RER, None)\n",
      "'paint production, for electrostatic painting for aluminium' (kilogram, GLO, None)\n",
      "'aluminium oxide production' (kilogram, IAI Area, Asia, without China and GCC, None)\n",
      "'aluminium oxide factory construction' (unit, RoW, None)\n",
      "'market for electricity, medium voltage, aluminium industry' (kilowatt hour, CN, None)\n",
      "'treatment of used sealing tape, aluminium/PE, 50 mm wide' (meter, CH, None)\n",
      "'market for casting, aluminium, lost-wax' (kilogram, GLO, None)\n",
      "'treatment of aluminium scrap, post-consumer, prepared for recycling, at refiner' (kilogram, RER, None)\n",
      "'aluminium drilling, conventional' (kilogram, RER, None)\n",
      "'market for aluminium chloride' (kilogram, GLO, None)\n",
      "'exhaust air outlet production, steel/aluminium, 85x365 mm' (unit, RoW, None)\n",
      "'electricity production, coal, aluminium industry' (kilowatt hour, IAI Area, Africa, None)\n",
      "'market for aluminium oxide, metallurgical' (kilogram, RoW, None)\n",
      "'market for aluminium removed by turning, primarily dressing, conventional' (kilogram, GLO, None)\n",
      "'treatment of aluminium scrap, new, at refiner' (kilogram, RER, None)\n",
      "'electricity production, hydro, aluminium industry' (kilowatt hour, UN-OCEANIA, None)\n",
      "'aluminium production, primary, liquid, prebake' (kilogram, IAI Area, South America, None)\n",
      "'aluminium, ingot, primary, import from EU27 & EFTA' (kilogram, IAI Area, North America, None)\n",
      "'market for electricity, high voltage, aluminium industry' (kilowatt hour, IAI Area, EU27 & EFTA, None)\n",
      "'aluminium scrap, post-consumer, Recycled Content cut-off' (kilogram, GLO, None)\n",
      "'treatment of used door, outer, wood-aluminium, collection for final disposal' (square meter, RoW, None)\n",
      "'aluminium oxide production' (kilogram, RNA, None)\n",
      "'anode production, paste, for aluminium electrolysis' (kilogram, IAI Area, EU27 & EFTA, None)\n",
      "'market for impact extrusion of aluminium, cold, tempering' (kilogram, GLO, None)\n",
      "'aluminium turning, average, computer numerical controlled' (kilogram, RER, None)\n",
      "'aluminium hydroxide production' (kilogram, IAI Area, Russia & RER w/o EU27 & EFTA, None)\n",
      "'aluminium oxide, metallurgical, import from Rest of Europe' (kilogram, IAI Area, EU27 & EFTA, None)\n",
      "'electricity voltage transformation from high to medium voltage, aluminium industry' (kilowatt hour, CA, None)\n",
      "'metallization paste production, back side, aluminium' (kilogram, RER, None)\n",
      "'aluminium milling, dressing' (kilogram, RER, None)\n",
      "'market for electricity, high voltage, aluminium industry' (kilowatt hour, IAI Area, Gulf Cooperation Council, None)\n",
      "'electricity production, coal, aluminium industry' (kilowatt hour, RoW, None)\n",
      "'market for aluminium removed by milling, large parts' (kilogram, GLO, None)\n",
      "'aluminium scrap, new, Recycled Content cut-off' (kilogram, GLO, None)\n",
      "'aluminium production, primary, ingot' (kilogram, CA, None)\n",
      "'market for aluminium removed by milling, small parts' (kilogram, GLO, None)\n",
      "'aluminium milling, average' (kilogram, RoW, None)\n",
      "'market for aluminium melting furnace' (unit, GLO, None)\n",
      "'treatment of aluminium scrap, post-consumer, prepared for recycling, at refiner' (kilogram, RER, None)\n",
      "'market for flexible duct, aluminium/PET, DN of 125' (meter, GLO, None)\n",
      "'aluminium, ingot, primary, import from Middle East (Gulf cooperation Council)' (kilogram, IAI Area, North America, None)\n",
      "'aluminium, ingot, primary, import from South America' (kilogram, IAI Area, North America, None)\n",
      "'anode production, paste, for aluminium electrolysis' (kilogram, IAI Area, Asia, without China and GCC, None)\n",
      "'market for electricity, high voltage, aluminium industry' (kilowatt hour, CN, None)\n",
      "'electricity production, coal, aluminium industry' (kilowatt hour, RNA, None)\n",
      "'market for welding, arc, aluminium' (meter, GLO, None)\n",
      "'impact extrusion of aluminium, cold, initial surface treatment' (kilogram, RER, None)\n",
      "'anode production, prebake, for aluminium electrolysis' (kilogram, UN-OCEANIA, None)\n",
      "'aluminium, ingot, primary, import from unspecified' (kilogram, IAI Area, North America, None)\n",
      "'anode production, prebake, for aluminium electrolysis' (kilogram, IAI Area, Russia & RER w/o EU27 & EFTA, None)\n",
      "'market for metal working, average for aluminium product manufacturing' (kilogram, GLO, None)\n",
      "'treatment of aluminium scrap, new, at refiner' (kilogram, RER, None)\n",
      "'electricity voltage transformation from high to medium voltage, aluminium industry' (kilowatt hour, IAI Area, South America, None)\n",
      "'electricity voltage transformation from high to medium voltage, aluminium industry' (kilowatt hour, IAI Area, Gulf Cooperation Council, None)\n",
      "'anode production, paste, for aluminium electrolysis' (kilogram, IAI Area, South America, None)\n",
      "'treatment of scrap aluminium, municipal incineration' (kilogram, CH, None)\n",
      "'market for aluminium, primary, ingot' (kilogram, IAI Area, EU27 & EFTA, None)\n",
      "'market for sheet rolling, aluminium' (kilogram, GLO, None)\n",
      "'market for impact extrusion of aluminium, cold, initial surface treatment' (kilogram, GLO, None)\n",
      "'market for aluminium oxide, metallurgical' (kilogram, IAI Area, EU27 & EFTA, None)\n",
      "'aluminium oxide production' (kilogram, IAI Area, Russia & RER w/o EU27 & EFTA, None)\n",
      "'aluminium, ingot, primary, import from South America' (kilogram, IAI Area, EU27 & EFTA, None)\n",
      "'aluminium oxide production' (kilogram, RNA, None)\n",
      "'aluminium hydroxide production' (kilogram, IAI Area, EU27 & EFTA, None)\n",
      "'market for refractory, high aluminium oxide, packed' (kilogram, GLO, None)\n",
      "'market for cathode, for aluminium electrolysis' (kilogram, GLO, None)\n",
      "'impact extrusion of aluminium, 1 stroke' (kilogram, RER, None)\n",
      "'aluminium, ingot, primary, import from Asia (excluding China)' (kilogram, IAI Area, North America, None)\n",
      "'aluminium hydroxide factory construction' (unit, RoW, None)\n",
      "'electricity voltage transformation from high to medium voltage, aluminium industry' (kilowatt hour, UN-OCEANIA, None)\n",
      "'gallium, in Bayer liquor from aluminium production' (kilogram, GLO, None)\n",
      "'market for window frame, aluminium, U=1.6 W/m2K' (square meter, GLO, None)\n",
      "'impact extrusion of aluminium, cold, tempering' (kilogram, RER, None)\n",
      "'aluminium production, primary, ingot' (kilogram, IAI Area, Asia, without China and GCC, None)\n",
      "'aluminium alloy production, Metallic Matrix Composite' (kilogram, CA-QC, None)\n",
      "'aluminium milling, dressing' (kilogram, RoW, None)\n",
      "'selective coating, aluminium sheet, nickel pigmented aluminium oxide' (square meter, RoW, None)\n",
      "'aluminium production, primary, cast alloy slab from continuous casting' (kilogram, RoW, None)\n",
      "'refractory production, high aluminium oxide, packed' (kilogram, DE, None)\n",
      "'impact extrusion of aluminium, deformation stroke' (kilogram, RER, None)\n",
      "'market for electricity, medium voltage, aluminium industry' (kilowatt hour, IAI Area, EU27 & EFTA, None)\n",
      "'market for selective coat, aluminium sheet, nickel pigmented aluminium oxide' (square meter, GLO, None)\n",
      "'door production, outer, wood-aluminium' (square meter, RER, None)\n",
      "'market for aluminium in car shredder residue' (kilogram, CH, None)\n",
      "'market for electricity, high voltage, aluminium industry' (kilowatt hour, UN-OCEANIA, None)\n",
      "'impact extrusion of aluminium, cold, initial surface treatment' (kilogram, RoW, None)\n",
      "'market for aluminium alloy, AlMg3' (kilogram, GLO, None)\n",
      "'treatment of waste aluminium, sanitary landfill' (kilogram, CH, None)\n",
      "'treatment of aluminium scrap, new, at refiner' (kilogram, RoW, None)\n",
      "'market for aluminium casting facility' (unit, GLO, None)\n",
      "'aluminium, ingot, primary, import from Rest of Europe' (kilogram, IAI Area, North America, None)\n",
      "'metal working, average for aluminium product manufacturing' (kilogram, RER, None)\n",
      "'anode production, paste, for aluminium electrolysis' (kilogram, UN-OCEANIA, None)\n",
      "'aluminium alloy production, AlLi' (kilogram, CA-QC, None)\n",
      "'refractory production, high aluminium oxide, packed' (kilogram, RoW, None)\n",
      "'electricity, high voltage, aluminium industry, production mix' (kilowatt hour, GLO, None)\n",
      "'aluminium oxide production' (kilogram, UN-OCEANIA, None)\n",
      "'treatment of used flexible duct, aluminium/PET, DN of 125' (meter, CH, None)\n",
      "'aluminium turning, primarily roughing, conventional' (kilogram, RER, None)\n",
      "'market for impact extrusion of aluminium, 2 strokes' (kilogram, GLO, None)\n",
      "'aluminium alloy production, AlLi' (kilogram, RoW, None)\n",
      "'anode production, prebake, for aluminium electrolysis' (kilogram, IAI Area, Africa, None)\n",
      "'aluminium melting furnace production' (unit, RER, None)\n",
      "'window frame production, aluminium, U=1.6 W/m2K' (square meter, RoW, None)\n",
      "'market for aluminium removed by turning, average, computer numerical controlled' (kilogram, GLO, None)\n",
      "'aluminium alloy production, AlMg3' (kilogram, RER, None)\n",
      "'aluminium turning, primarily dressing, computer numerical controlled' (kilogram, RoW, None)\n",
      "'market for electricity, high voltage, aluminium industry' (kilowatt hour, IAI Area, Russia & RER w/o EU27 & EFTA, None)\n",
      "'aluminium milling, small parts' (kilogram, RER, None)\n",
      "'market for waste aluminium' (kilogram, GLO, None)\n",
      "'market for aluminium electrolysis facility' (unit, GLO, None)\n",
      "'electricity production, hydro, aluminium industry' (kilowatt hour, IAI Area, South America, None)\n",
      "'treatment of aluminium scrap, post-consumer, prepared for recycling, at refiner' (kilogram, RoW, None)\n",
      "'treatment of aluminium scrap, new, at remelter' (kilogram, RoW, None)\n",
      "'aluminium hydroxide production' (kilogram, IAI Area, Asia, without China and GCC, None)\n",
      "'aluminium oxide, metallurgical, import from South America' (kilogram, IAI Area, EU27 & EFTA, None)\n",
      "'aluminium production, primary, ingot' (kilogram, IAI Area, Russia & RER w/o EU27 & EFTA, None)\n",
      "'market for impact extrusion of aluminium, 5 strokes' (kilogram, GLO, None)\n",
      "'aluminium hydroxide factory construction' (unit, RER, None)\n",
      "'impact extrusion of aluminium, 5 strokes' (kilogram, RER, None)\n",
      "'aluminium production, primary, liquid, Söderberg' (kilogram, RoW, None)\n",
      "'market for aluminium hydroxide factory' (unit, GLO, None)\n",
      "'market for electricity, high voltage, aluminium industry' (kilowatt hour, IAI Area, Asia, without China and GCC, None)\n",
      "'aluminium production, primary, liquid, prebake' (kilogram, IAI Area, Asia, without China and GCC, None)\n",
      "'impact extrusion of aluminium, deformation stroke' (kilogram, RoW, None)\n",
      "'anodising, aluminium sheet' (square meter, RoW, None)\n",
      "'aluminium turning, primarily dressing, conventional' (kilogram, RoW, None)\n",
      "'market for impact extrusion of aluminium, 4 strokes' (kilogram, GLO, None)\n",
      "'electricity production, hydro, aluminium industry' (kilowatt hour, IAI Area, EU27 & EFTA, None)\n",
      "'market for used flexible duct aluminium/PET, DN of 125' (meter, RoW, None)\n",
      "'aluminium production, primary, liquid, Söderberg' (kilogram, IAI Area, EU27 & EFTA, None)\n",
      "'aluminium alloy production, AlMg3' (kilogram, RoW, None)\n",
      "'aluminium sulfate production, powder' (kilogram, RoW, None)\n",
      "'aluminium, ingot, primary, import from Northern America' (kilogram, IAI Area, EU27 & EFTA, None)\n",
      "'electricity production, natural gas, aluminium industry' (kilowatt hour, CA, None)\n",
      "'anode production, paste, for aluminium electrolysis' (kilogram, IAI Area, Gulf Cooperation Council, None)\n",
      "'market for electricity, medium voltage, aluminium industry' (kilowatt hour, IAI Area, Russia & RER w/o EU27 & EFTA, None)\n",
      "'aluminium production, primary, ingot' (kilogram, RoW, None)\n",
      "'treatment of aluminium scrap, post-consumer, prepared for recycling, at remelter' (kilogram, RER, None)\n",
      "'aluminium electrolysis facility construction' (unit, RoW, None)\n",
      "'aluminium melting furnace production' (unit, RoW, None)\n",
      "'sealing tape production, aluminium/PE, 50 mm wide' (meter, RoW, None)\n",
      "'electricity production, hydro, aluminium industry' (kilowatt hour, IAI Area, Russia & RER w/o EU27 & EFTA, None)\n",
      "'aluminium hydroxide production' (kilogram, RoW, None)\n",
      "'market for aluminium, cast alloy' (kilogram, GLO, None)\n",
      "'electricity production, hydro, aluminium industry' (kilowatt hour, IAI Area, Africa, None)\n",
      "'aluminium drilling, computer numerical controlled' (kilogram, RoW, None)\n",
      "'aluminium drilling, computer numerical controlled' (kilogram, RER, None)\n",
      "'aluminium fluoride production' (kilogram, RoW, None)\n",
      "'market for aluminium sulfate, powder' (kilogram, RER, None)\n",
      "'market for anodising, aluminium sheet' (square meter, GLO, None)\n",
      "'electricity production, nuclear, aluminium industry' (kilowatt hour, IAI Area, Russia & RER w/o EU27 & EFTA, None)\n",
      "'treatment of scrap aluminium, municipal incineration with fly ash extraction' (kilogram, CH, None)\n",
      "'cathode production, for aluminium electrolysis' (kilogram, RER, None)\n",
      "'anode production, prebake, for aluminium electrolysis' (kilogram, IAI Area, Asia, without China and GCC, None)\n",
      "'aluminium casting facility construction' (unit, RER, None)\n",
      "'market for aluminium, in mixed metal scrap' (kilogram, CH, None)\n",
      "'metal working, average for aluminium product manufacturing' (kilogram, RoW, None)\n",
      "'electricity production, nuclear, aluminium industry' (kilowatt hour, RoW, None)\n",
      "'cladding production, crossbar-pole, aluminium' (square meter, RoW, None)\n",
      "'market for electricity, medium voltage, aluminium industry' (kilowatt hour, CA, None)\n",
      "'aluminium turning, primarily roughing, computer numerical controlled' (kilogram, RER, None)\n",
      "'aluminium hydroxide production' (kilogram, UN-OCEANIA, None)\n",
      "'aluminium hydroxide production' (kilogram, CN, None)\n",
      "'treatment of used flexible duct, aluminium/PET, DN of 125' (meter, RoW, None)\n",
      "'market for electricity, medium voltage, aluminium industry' (kilowatt hour, IAI Area, Gulf Cooperation Council, None)\n",
      "'market for aluminium removed by milling, average' (kilogram, GLO, None)\n",
      "'market for used sealing tape aluminium/PE, 50 mm wide' (meter, RoW, None)\n",
      "'anode production, prebake, for aluminium electrolysis' (kilogram, CN, None)\n",
      "'anode production, prebake, for aluminium electrolysis' (kilogram, IAI Area, Gulf Cooperation Council, None)\n",
      "'market for scrap aluminium' (kilogram, RoW, None)\n",
      "'aluminium production, primary, ingot' (kilogram, UN-OCEANIA, None)\n",
      "'casting, aluminium, lost-wax' (kilogram, CA-QC, None)\n",
      "'market for aluminium, in mixed metal scrap' (kilogram, RoW, None)\n",
      "'market for aluminium, primary, ingot' (kilogram, IAI Area, North America, None)\n",
      "'impact extrusion of aluminium, 3 strokes' (kilogram, RoW, None)\n",
      "'aluminium, ingot, primary, import from Oceania' (kilogram, IAI Area, North America, None)\n",
      "'anode production, prebake, for aluminium electrolysis' (kilogram, IAI Area, South America, None)\n",
      "'aluminium production, primary, liquid, Söderberg' (kilogram, IAI Area, Russia & RER w/o EU27 & EFTA, None)\n",
      "'electricity production, nuclear, aluminium industry' (kilowatt hour, IAI Area, EU27 & EFTA, None)\n",
      "'aluminium hydroxide production' (kilogram, IAI Area, South America, None)\n",
      "'electricity production, hydro, aluminium industry' (kilowatt hour, CN, None)\n",
      "'market for aluminium scrap, new' (kilogram, RER, None)\n",
      "'market for aluminium alloy, AlLi' (kilogram, GLO, None)\n",
      "'market for electricity, medium voltage, aluminium industry' (kilowatt hour, IAI Area, Africa, None)\n",
      "'market for used flexible duct aluminium/PET, DN of 125' (meter, CH, None)\n",
      "'flexible duct production, aluminium/PET, DN of 125' (meter, RoW, None)\n",
      "'impact extrusion of aluminium, 5 strokes' (kilogram, RoW, None)\n",
      "'welding, arc, aluminium' (meter, CA-QC, None)\n",
      "'aluminium sulfate production, without water, in 4.33% aluminium solution state' (kilogram, CA-QC, None)\n",
      "'powder coating, aluminium sheet' (square meter, RoW, None)\n",
      "'aluminium fluoride production' (kilogram, RER, None)\n",
      "'treatment of used sealing tape, aluminium/PE, 50 mm wide' (meter, RoW, None)\n",
      "'aluminium alloy production, AlLi' (kilogram, CA-QC, None)\n",
      "'anodising, aluminium sheet' (square meter, CA-QC, None)\n"
     ]
    }
   ],
   "source": [
    "for act in [act for act in ei if 'aluminium' in act['name']]:\n",
    "    print(act)"
   ]
  },
  {
   "cell_type": "code",
   "execution_count": 23,
   "id": "add2d710-2cb8-4aab-911e-73332b00d7b4",
   "metadata": {},
   "outputs": [],
   "source": [
    "for activity in [act for act in ei if 'Glider' in act['name'] or 'ICEV_prod' in act['name'] or 'EV_prod' in act['name']]:\n",
    "    activity.delete()\n",
    "    \n",
    "\n",
    "    \n",
    "EV_prod = ei.new_activity(code = 'electric_vehicles', name = 'EV_prod', unit = 'unit')\n",
    "EV_prod.save()\n",
    "\n",
    "ICEV_prod = ei.new_activity(code = 'icev', name = 'ICEV_prod', unit = 'unit')\n",
    "ICEV_prod.save()\n",
    "    \n",
    "glider = ei.new_activity(code = 'test_glider', name = 'Glider', unit = 'unit')\n",
    "glider.save()"
   ]
  },
  {
   "cell_type": "code",
   "execution_count": 24,
   "id": "71f1f118-431d-41c1-8b10-43001d75f126",
   "metadata": {},
   "outputs": [],
   "source": [
    "steel = [act for act in ei if act['name']== 'market for steel, low-alloyed'][0]\n",
    "aluminium = [act for act in ei if act['name'] == 'aluminium alloy production, AlMg3'][0]\n",
    "carbon_fibre = [act for act in ei if act['name'] == 'market for carbon fibre reinforced plastic, injection moulded'][0]\n"
   ]
  },
  {
   "cell_type": "code",
   "execution_count": 85,
   "id": "323237e6-b81c-4ff6-989f-5f53fc931126",
   "metadata": {},
   "outputs": [],
   "source": [
    "steel_amount = 1300\n",
    "aluminium_amount = 200"
   ]
  },
  {
   "cell_type": "code",
   "execution_count": 25,
   "id": "7455d71e-d4eb-44f9-b27f-51f5fc17c509",
   "metadata": {},
   "outputs": [],
   "source": [
    "glider.new_exchange(input = steel.key, amount = steel_amount, unit = 'kg', type = 'technosphere').save()\n",
    "glider.new_exchange(input = aluminium.key, amount = aluminium_amount, unit = 'kg', type = 'technosphere').save()\n"
   ]
  },
  {
   "cell_type": "code",
   "execution_count": 26,
   "id": "0ae81c8e-9cf4-4d12-8e3f-ffa68564943c",
   "metadata": {},
   "outputs": [
    {
     "name": "stdout",
     "output_type": "stream",
     "text": [
      "Exchange: 1300 kilogram 'market for steel, low-alloyed' (kilogram, GLO, None) to 'Glider' (unit, GLO, None)>\n",
      "Exchange: 200 kilogram 'aluminium alloy production, AlMg3' (kilogram, RER, None) to 'Glider' (unit, GLO, None)>\n",
      "Exchange: 0 kilogram 'market for carbon fibre reinforced plastic, injection moulded' (kilogram, GLO, None) to 'Glider' (unit, GLO, None)>\n"
     ]
    }
   ],
   "source": [
    "for exc in glider.exchanges():\n",
    "    print(exc)"
   ]
  },
  {
   "cell_type": "code",
   "execution_count": 27,
   "id": "3846eae5-39ca-460a-b122-f649a138299d",
   "metadata": {},
   "outputs": [],
   "source": [
    "ICEV_prod.new_exchange(input = glider, amount = 1, unit = 'unit', type = 'technosphere').save()\n",
    "\n",
    "EV_prod.new_exchange(input = glider, amount = 1.1, unit = 'unit', type = 'technosphere').save()"
   ]
  },
  {
   "cell_type": "code",
   "execution_count": 28,
   "id": "70d86850-bbd3-460e-a4f1-9fac496ca1ca",
   "metadata": {},
   "outputs": [
    {
     "name": "stdout",
     "output_type": "stream",
     "text": [
      "'battery cell production, Li-ion' (kilogram, RoW, None)\n"
     ]
    }
   ],
   "source": [
    "for act in [act for act in ei if 'battery cell production' in act['name'] and 'RoW' in act['location']]:\n",
    "    print(act)"
   ]
  },
  {
   "cell_type": "code",
   "execution_count": 29,
   "id": "dd742c2b-6eb4-4d7d-96ba-201cd3aaabe5",
   "metadata": {},
   "outputs": [],
   "source": [
    "LIB = [act for act in ei if 'battery cell production' in act['name'] and 'RoW' in act['location']][0]"
   ]
  },
  {
   "cell_type": "code",
   "execution_count": 30,
   "id": "938cdec6-48ce-4037-9ced-ae27bd992fd1",
   "metadata": {},
   "outputs": [],
   "source": [
    "EV_prod.new_exchange(input = LIB, amount = 340, unit = 'kg', type = 'technosphere').save()"
   ]
  },
  {
   "cell_type": "code",
   "execution_count": 31,
   "id": "29f387ed-7715-4874-ab7c-6b100dc009da",
   "metadata": {},
   "outputs": [
    {
     "name": "stdout",
     "output_type": "stream",
     "text": [
      "Exchange: 1.1 unit 'Glider' (unit, GLO, None) to 'EV_prod' (unit, GLO, None)>\n",
      "Exchange: 340 kilogram 'battery cell production, Li-ion' (kilogram, RoW, None) to 'EV_prod' (unit, GLO, None)>\n"
     ]
    }
   ],
   "source": [
    "for exc in EV_prod.exchanges():\n",
    "    print(exc)"
   ]
  },
  {
   "cell_type": "code",
   "execution_count": 32,
   "id": "2a3dbb35-7ec1-4198-8207-4a69b78b00c5",
   "metadata": {},
   "outputs": [],
   "source": [
    "for activity in [act for act in ei if 'ICEV_tot' in act['name'] or 'EV_tot' in act['name']]:\n",
    "    activity.delete()\n",
    "    \n",
    "\n",
    "EV_tot = ei.new_activity(code = 'ev-tot', name ='EV_tot', unit = 'unit/vkm')\n",
    "EV_tot.save()\n",
    "\n",
    "ICEV_tot = ei.new_activity(code = 'icev-tot', name = 'ICEV_tot', unit = 'unit/vkm')\n",
    "ICEV_tot.save()"
   ]
  },
  {
   "cell_type": "code",
   "execution_count": 33,
   "id": "25897d18-a75c-4a04-a5a3-2a131642a80b",
   "metadata": {},
   "outputs": [],
   "source": [
    "EV_tot.new_exchange(input = EV_prod, amount = 1/150000, type = 'technosphere').save()\n",
    "ICEV_tot.new_exchange(input = ICEV_prod, amount = 1/150000, type = 'technosphere').save()"
   ]
  },
  {
   "cell_type": "code",
   "execution_count": 34,
   "id": "3cc81d97-e768-49f0-a5d4-0101a258a632",
   "metadata": {},
   "outputs": [
    {
     "name": "stdout",
     "output_type": "stream",
     "text": [
      "Exchange: 6.666666666666667e-06 unit 'EV_prod' (unit, GLO, None) to 'EV_tot' (unit/vkm, GLO, None)>\n"
     ]
    }
   ],
   "source": [
    "for exc in EV_tot.exchanges():\n",
    "    print(exc)"
   ]
  },
  {
   "cell_type": "code",
   "execution_count": 35,
   "id": "da09d8fa-688e-495a-95f5-2272f5e8754d",
   "metadata": {},
   "outputs": [
    {
     "name": "stdout",
     "output_type": "stream",
     "text": [
      "'petrol production, 4% ETBE additive by volume, with ethanol from biomass' (kilogram, RER, None)\n",
      "'petrol production, unleaded, petroleum refinery operation' (kilogram, PE, None)\n",
      "'petrol production, 5% ethanol by volume from biomass' (kilogram, CH, None)\n",
      "'petrol production, 15% ETBE additive by volume, with ethanol from biomass' (kilogram, RoW, None)\n",
      "'petrol production, 15% ETBE additive by volume, with ethanol from biomass' (kilogram, RER, None)\n",
      "'petrol production, 85% ethanol by volume from biomass' (kilogram, CH, None)\n",
      "'petrol production, low-sulfur' (kilogram, CH, None)\n",
      "'petrol production, unleaded, petroleum refinery operation' (kilogram, CO, None)\n",
      "'petrol production, unleaded, petroleum refinery operation' (kilogram, Europe without Switzerland, None)\n",
      "'petrol production, unleaded, petroleum refinery operation' (kilogram, RoW, None)\n",
      "'petrol production, low-sulfur' (kilogram, Europe without Switzerland, None)\n",
      "'petrol production, unleaded, petroleum refinery operation' (kilogram, BR, None)\n",
      "'petrol production, unleaded, petroleum refinery operation' (kilogram, ZA, None)\n",
      "'petrol production, 4% ETBE additive by volume, with ethanol from biomass' (kilogram, RoW, None)\n",
      "'petrol production, unleaded, petroleum refinery operation' (kilogram, IN, None)\n",
      "'petrol production, low-sulfur' (kilogram, RoW, None)\n"
     ]
    }
   ],
   "source": [
    "for act in [act for act in ei if 'petrol production' in act['name']]:\n",
    "    print(act)"
   ]
  },
  {
   "cell_type": "code",
   "execution_count": 36,
   "id": "31575fa8-40b4-4319-87ac-3145d7c6d9f7",
   "metadata": {},
   "outputs": [],
   "source": [
    "gasoline = [act for act in ei if 'petrol production, unleaded, petroleum refinery operation' in act['name'] and 'Europe without Switzerland' in act['location']][0]"
   ]
  },
  {
   "cell_type": "code",
   "execution_count": 42,
   "id": "40848c3e-fd44-4604-86f6-a4e904b34653",
   "metadata": {},
   "outputs": [
    {
     "name": "stdout",
     "output_type": "stream",
     "text": [
      "'market group for electricity, low voltage' (kilowatt hour, RER, None)\n"
     ]
    }
   ],
   "source": [
    "for act in [act for act in ei if 'electricity, low voltage' in act['name'] and 'RER' in act['location']]:\n",
    "    print(act)"
   ]
  },
  {
   "cell_type": "code",
   "execution_count": 43,
   "id": "24b24398-c99a-4088-85c8-ae77228eef02",
   "metadata": {},
   "outputs": [],
   "source": [
    "electricity =  [act for act in ei if 'market group for electricity, low voltage' in act['name'] and 'RER' in act['location']][0]"
   ]
  },
  {
   "cell_type": "code",
   "execution_count": 53,
   "id": "94a134b2-3126-41fd-870d-b0003645d509",
   "metadata": {},
   "outputs": [],
   "source": [
    "EV_tot.new_exchange(input = electricity, amount = 0.113, type = 'technosphere', overwrite = True).save()\n",
    "ICEV_tot.new_exchange(input = gasoline, amount =(2.48*0.023), type = 'technosphere').save()"
   ]
  },
  {
   "cell_type": "code",
   "execution_count": 54,
   "id": "676448ae-4dad-4fd0-9728-5cd7be675561",
   "metadata": {},
   "outputs": [
    {
     "name": "stdout",
     "output_type": "stream",
     "text": [
      "6.666666666666667e-06\n",
      "0.113\n",
      "0.113\n"
     ]
    }
   ],
   "source": [
    "for exc in EV_tot.exchanges():\n",
    "    print(exc.amount)"
   ]
  },
  {
   "cell_type": "code",
   "execution_count": 69,
   "id": "5ba947ea-6889-4add-a412-944877168d38",
   "metadata": {},
   "outputs": [],
   "source": [
    "electricity.update(amount = 0.225)"
   ]
  },
  {
   "cell_type": "code",
   "execution_count": 310,
   "id": "77489703-81cb-47ca-9070-240c6e802780",
   "metadata": {},
   "outputs": [],
   "source": [
    "database_dp = load_datapackage(ZipFS(ei.filepath_processed()))\n",
    "method_dp = load_datapackage(ZipFS(bd.Method(method_GWP_recipe).filepath_processed()))"
   ]
  },
  {
   "cell_type": "code",
   "execution_count": 148,
   "id": "93534c8b-1ba9-425a-9187-d434e9d7e0e1",
   "metadata": {},
   "outputs": [],
   "source": [
    "int_dp = bwp.create_datapackage()"
   ]
  },
  {
   "cell_type": "code",
   "execution_count": 335,
   "id": "dcf5a338-d29d-45d9-a8aa-96dafbd7fb1e",
   "metadata": {},
   "outputs": [
    {
     "data": {
      "text/plain": [
       "array([( 9736, 23558), (19241, 23558)],\n",
       "      dtype=[('row', '<i4'), ('col', '<i4')])"
      ]
     },
     "execution_count": 335,
     "metadata": {},
     "output_type": "execute_result"
    }
   ],
   "source": [
    "indices_array = np.array([(steel.id,glider.id), (aluminium.id, glider.id)], dtype = bwp.INDICES_DTYPE)\n",
    "indices_array"
   ]
  },
  {
   "cell_type": "code",
   "execution_count": 336,
   "id": "3cc3ed99-96a2-40b0-b144-36b55d14f94b",
   "metadata": {},
   "outputs": [
    {
     "ename": "NonUnique",
     "evalue": "This group name already used",
     "output_type": "error",
     "traceback": [
      "\u001b[1;31m---------------------------------------------------------------------------\u001b[0m",
      "\u001b[1;31mNonUnique\u001b[0m                                 Traceback (most recent call last)",
      "\u001b[1;32m~\\AppData\\Local\\Temp/ipykernel_17244/1216718526.py\u001b[0m in \u001b[0;36m<module>\u001b[1;34m\u001b[0m\n\u001b[1;32m----> 1\u001b[1;33m int_dp.add_dynamic_vector(\n\u001b[0m\u001b[0;32m      2\u001b[0m     \u001b[0mmatrix\u001b[0m \u001b[1;33m=\u001b[0m \u001b[1;34m'technosphere'\u001b[0m\u001b[1;33m,\u001b[0m\u001b[1;33m\u001b[0m\u001b[1;33m\u001b[0m\u001b[0m\n\u001b[0;32m      3\u001b[0m     \u001b[0minterface\u001b[0m \u001b[1;33m=\u001b[0m \u001b[0minterf\u001b[0m\u001b[1;33m,\u001b[0m\u001b[1;33m\u001b[0m\u001b[1;33m\u001b[0m\u001b[0m\n\u001b[0;32m      4\u001b[0m     \u001b[0mname\u001b[0m \u001b[1;33m=\u001b[0m \u001b[1;34m'Steel replacement'\u001b[0m\u001b[1;33m,\u001b[0m\u001b[1;33m\u001b[0m\u001b[1;33m\u001b[0m\u001b[0m\n\u001b[0;32m      5\u001b[0m     \u001b[0mflip_array\u001b[0m \u001b[1;33m=\u001b[0m \u001b[0mnp\u001b[0m\u001b[1;33m.\u001b[0m\u001b[0marray\u001b[0m\u001b[1;33m(\u001b[0m\u001b[1;33m[\u001b[0m\u001b[1;32mTrue\u001b[0m\u001b[1;33m,\u001b[0m \u001b[1;32mTrue\u001b[0m\u001b[1;33m]\u001b[0m\u001b[1;33m)\u001b[0m\u001b[1;33m,\u001b[0m\u001b[1;33m\u001b[0m\u001b[1;33m\u001b[0m\u001b[0m\n",
      "\u001b[1;32mC:\\ProgramData\\Anaconda3\\envs\\bw25\\lib\\site-packages\\bw_processing\\datapackage.py\u001b[0m in \u001b[0;36madd_dynamic_vector\u001b[1;34m(self, matrix, interface, indices_array, name, flip_array, keep_proxy, **kwargs)\u001b[0m\n\u001b[0;32m    603\u001b[0m             \u001b[1;33m{\u001b[0m\u001b[1;34m\"matrix\"\u001b[0m\u001b[1;33m:\u001b[0m \u001b[0mmatrix\u001b[0m\u001b[1;33m,\u001b[0m \u001b[1;34m\"category\"\u001b[0m\u001b[1;33m:\u001b[0m \u001b[1;34m\"vector\"\u001b[0m\u001b[1;33m,\u001b[0m \u001b[1;34m\"nrows\"\u001b[0m\u001b[1;33m:\u001b[0m \u001b[0mlen\u001b[0m\u001b[1;33m(\u001b[0m\u001b[0mindices_array\u001b[0m\u001b[1;33m)\u001b[0m\u001b[1;33m}\u001b[0m\u001b[1;33m\u001b[0m\u001b[1;33m\u001b[0m\u001b[0m\n\u001b[0;32m    604\u001b[0m         )\n\u001b[1;32m--> 605\u001b[1;33m         \u001b[0mname\u001b[0m \u001b[1;33m=\u001b[0m \u001b[0mself\u001b[0m\u001b[1;33m.\u001b[0m\u001b[0m_prepare_name\u001b[0m\u001b[1;33m(\u001b[0m\u001b[0mname\u001b[0m\u001b[1;33m)\u001b[0m\u001b[1;33m\u001b[0m\u001b[1;33m\u001b[0m\u001b[0m\n\u001b[0m\u001b[0;32m    606\u001b[0m \u001b[1;33m\u001b[0m\u001b[0m\n\u001b[0;32m    607\u001b[0m         \u001b[1;31m# Do something with dynamic vector\u001b[0m\u001b[1;33m\u001b[0m\u001b[1;33m\u001b[0m\u001b[0m\n",
      "\u001b[1;32mC:\\ProgramData\\Anaconda3\\envs\\bw25\\lib\\site-packages\\bw_processing\\datapackage.py\u001b[0m in \u001b[0;36m_prepare_name\u001b[1;34m(self, name)\u001b[0m\n\u001b[0;32m    387\u001b[0m             \u001b[1;32mraise\u001b[0m \u001b[0mNonUnique\u001b[0m\u001b[1;33m(\u001b[0m\u001b[1;34m\"This name already used\"\u001b[0m\u001b[1;33m)\u001b[0m\u001b[1;33m\u001b[0m\u001b[1;33m\u001b[0m\u001b[0m\n\u001b[0;32m    388\u001b[0m         \u001b[1;32mif\u001b[0m \u001b[0mname\u001b[0m \u001b[1;32min\u001b[0m \u001b[0mexisting_groups\u001b[0m\u001b[1;33m:\u001b[0m\u001b[1;33m\u001b[0m\u001b[1;33m\u001b[0m\u001b[0m\n\u001b[1;32m--> 389\u001b[1;33m             \u001b[1;32mraise\u001b[0m \u001b[0mNonUnique\u001b[0m\u001b[1;33m(\u001b[0m\u001b[1;34m\"This group name already used\"\u001b[0m\u001b[1;33m)\u001b[0m\u001b[1;33m\u001b[0m\u001b[1;33m\u001b[0m\u001b[0m\n\u001b[0m\u001b[0;32m    390\u001b[0m \u001b[1;33m\u001b[0m\u001b[0m\n\u001b[0;32m    391\u001b[0m         \u001b[1;32mreturn\u001b[0m \u001b[0mname\u001b[0m\u001b[1;33m\u001b[0m\u001b[1;33m\u001b[0m\u001b[0m\n",
      "\u001b[1;31mNonUnique\u001b[0m: This group name already used"
     ]
    }
   ],
   "source": [
    "int_dp.add_dynamic_vector(\n",
    "    matrix = 'technosphere',\n",
    "    interface = interf,\n",
    "    name = 'Steel replacement',\n",
    "    flip_array = np.array([True, True]),\n",
    "    indices_array = indices_array,\n",
    ")"
   ]
  },
  {
   "cell_type": "code",
   "execution_count": 282,
   "id": "b4bce511-705d-4c49-b811-b29ae0b8feca",
   "metadata": {},
   "outputs": [],
   "source": [
    "method_GWP_recipe = [m for m in bd.methods if 'ReCiPe' in str(m) and  'Midpoint (H)' in str(m) and 'climate change' in str(m)][0]\n",
    "fu = {EV_tot:1}"
   ]
  },
  {
   "cell_type": "code",
   "execution_count": 283,
   "id": "ed10b2ef-bf4f-4ff4-a413-d752719b77b6",
   "metadata": {},
   "outputs": [
    {
     "name": "stdout",
     "output_type": "stream",
     "text": [
      "'Glider' (unit, GLO, None)\n"
     ]
    }
   ],
   "source": [
    "for act in [act for act in ei if 'Glider' in act['name']]:\n",
    "    print(act)"
   ]
  },
  {
   "cell_type": "code",
   "execution_count": 284,
   "id": "c1ea845d-4094-4b58-991c-0d55ed3b9eeb",
   "metadata": {},
   "outputs": [
    {
     "data": {
      "text/plain": [
       "{'EV_tot' (unit/vkm, GLO, None): 1}"
      ]
     },
     "execution_count": 284,
     "metadata": {},
     "output_type": "execute_result"
    }
   ],
   "source": [
    "fu"
   ]
  },
  {
   "cell_type": "code",
   "execution_count": 285,
   "id": "f9523445-a849-49bc-b607-2fb4dcd1fc57",
   "metadata": {},
   "outputs": [],
   "source": [
    "lca = bc.LCA(demand = fu, method = method_GWP_recipe)"
   ]
  },
  {
   "cell_type": "code",
   "execution_count": 286,
   "id": "d4cc4d30-d26b-423a-b66f-86a328232148",
   "metadata": {},
   "outputs": [],
   "source": [
    "lca.lci()\n",
    "lca.lcia()"
   ]
  },
  {
   "cell_type": "code",
   "execution_count": 287,
   "id": "9cfda9be-41e6-49dc-b0ec-a564ee4f38ea",
   "metadata": {},
   "outputs": [
    {
     "data": {
      "text/plain": [
       "0.1289011829468778"
      ]
     },
     "execution_count": 287,
     "metadata": {},
     "output_type": "execute_result"
    }
   ],
   "source": [
    "lca.score"
   ]
  },
  {
   "cell_type": "code",
   "execution_count": 288,
   "id": "47d6fe56-f256-43f6-b7b3-fb891cc020a3",
   "metadata": {},
   "outputs": [
    {
     "data": {
      "text/plain": [
       "(1, 19133)"
      ]
     },
     "execution_count": 288,
     "metadata": {},
     "output_type": "execute_result"
    }
   ],
   "source": [
    "by_activity = np.array(lca.characterized_inventory.sum(axis = 0))\n",
    "by_activity.shape"
   ]
  },
  {
   "cell_type": "code",
   "execution_count": 293,
   "id": "a1295da5-e10c-40e2-aa07-bc09b1ce8342",
   "metadata": {},
   "outputs": [],
   "source": [
    "sorted_values = sorted([(abs(value), value, index) for index, value in enumerate(by_activity[0, :])], reverse=True)"
   ]
  },
  {
   "cell_type": "code",
   "execution_count": 294,
   "id": "9e77c1e9-26bc-46bf-b5a9-9837339f2256",
   "metadata": {},
   "outputs": [
    {
     "name": "stdout",
     "output_type": "stream",
     "text": [
      "0.011361684353415195 'electricity production, lignite' (kilowatt hour, DE, None)\n",
      "0.005341085055262461 'heat and power co-generation, hard coal' (kilowatt hour, PL, None)\n",
      "0.0046093616744404655 'electricity production, hard coal' (kilowatt hour, DE, None)\n",
      "0.004235943099572984 'electricity production, hard coal' (kilowatt hour, UA, None)\n",
      "0.0042174674895082195 'electricity production, natural gas, conventional power plant' (kilowatt hour, GB, None)\n"
     ]
    }
   ],
   "source": [
    "for _, value, index in sorted_values[:5]:\n",
    "    print(value, bd.get_activity(lca.dicts.activity.reversed[index]))\n"
   ]
  },
  {
   "cell_type": "code",
   "execution_count": 302,
   "id": "baa12d2a-7b6a-4e0b-82e5-c1cf01dc4adf",
   "metadata": {},
   "outputs": [
    {
     "data": {
      "text/plain": [
       "'electricity production, natural gas, conventional power plant' (kilowatt hour, GB, None)"
      ]
     },
     "execution_count": 302,
     "metadata": {},
     "output_type": "execute_result"
    }
   ],
   "source": [
    "bd.get_activity(lca.dicts.activity.reversed[index])\n"
   ]
  },
  {
   "cell_type": "code",
   "execution_count": null,
   "id": "833612b3-55a1-427b-8c67-2ec7f303958a",
   "metadata": {},
   "outputs": [],
   "source": []
  },
  {
   "cell_type": "code",
   "execution_count": 312,
   "id": "a617e96e-a198-45a5-a251-e478f115051a",
   "metadata": {},
   "outputs": [
    {
     "data": {
      "text/plain": [
       "{'EV_tot' (unit/vkm, GLO, None): 1}"
      ]
     },
     "execution_count": 312,
     "metadata": {},
     "output_type": "execute_result"
    }
   ],
   "source": [
    "fu"
   ]
  },
  {
   "cell_type": "code",
   "execution_count": 340,
   "id": "278b08d5-16ad-4e51-9f96-092239544195",
   "metadata": {},
   "outputs": [],
   "source": [
    "lca = bc.LCA(\n",
    "    demand = {EV_tot.id: 1},\n",
    "    data_objs = [database_dp,method_dp,int_dp],\n",
    "    use_distributions = False,\n",
    "    seed_override = None\n",
    ")\n",
    "\n",
    "lca.lci()\n",
    "lca.lcia()"
   ]
  },
  {
   "cell_type": "code",
   "execution_count": 341,
   "id": "49c535b3-6903-4a09-ae15-0d4068420322",
   "metadata": {},
   "outputs": [
    {
     "data": {
      "text/plain": [
       "0.1289011829468778"
      ]
     },
     "execution_count": 341,
     "metadata": {},
     "output_type": "execute_result"
    }
   ],
   "source": [
    "lca.score"
   ]
  },
  {
   "cell_type": "code",
   "execution_count": 342,
   "id": "cf531f77-5d04-4277-ac77-4db478fc4902",
   "metadata": {},
   "outputs": [
    {
     "data": {
      "text/html": [
       "<div>\n",
       "<style scoped>\n",
       "    .dataframe tbody tr th:only-of-type {\n",
       "        vertical-align: middle;\n",
       "    }\n",
       "\n",
       "    .dataframe tbody tr th {\n",
       "        vertical-align: top;\n",
       "    }\n",
       "\n",
       "    .dataframe thead th {\n",
       "        text-align: right;\n",
       "    }\n",
       "</style>\n",
       "<table border=\"1\" class=\"dataframe\">\n",
       "  <thead>\n",
       "    <tr style=\"text-align: right;\">\n",
       "      <th></th>\n",
       "      <th>score</th>\n",
       "    </tr>\n",
       "  </thead>\n",
       "  <tbody>\n",
       "    <tr>\n",
       "      <th>0</th>\n",
       "      <td>0.128901</td>\n",
       "    </tr>\n",
       "    <tr>\n",
       "      <th>1</th>\n",
       "      <td>0.128901</td>\n",
       "    </tr>\n",
       "    <tr>\n",
       "      <th>2</th>\n",
       "      <td>0.128901</td>\n",
       "    </tr>\n",
       "    <tr>\n",
       "      <th>3</th>\n",
       "      <td>0.128901</td>\n",
       "    </tr>\n",
       "    <tr>\n",
       "      <th>4</th>\n",
       "      <td>0.128901</td>\n",
       "    </tr>\n",
       "    <tr>\n",
       "      <th>5</th>\n",
       "      <td>0.128901</td>\n",
       "    </tr>\n",
       "    <tr>\n",
       "      <th>6</th>\n",
       "      <td>0.128901</td>\n",
       "    </tr>\n",
       "    <tr>\n",
       "      <th>7</th>\n",
       "      <td>0.128901</td>\n",
       "    </tr>\n",
       "    <tr>\n",
       "      <th>8</th>\n",
       "      <td>0.128901</td>\n",
       "    </tr>\n",
       "    <tr>\n",
       "      <th>9</th>\n",
       "      <td>0.128901</td>\n",
       "    </tr>\n",
       "  </tbody>\n",
       "</table>\n",
       "</div>"
      ],
      "text/plain": [
       "      score\n",
       "0  0.128901\n",
       "1  0.128901\n",
       "2  0.128901\n",
       "3  0.128901\n",
       "4  0.128901\n",
       "5  0.128901\n",
       "6  0.128901\n",
       "7  0.128901\n",
       "8  0.128901\n",
       "9  0.128901"
      ]
     },
     "execution_count": 342,
     "metadata": {},
     "output_type": "execute_result"
    }
   ],
   "source": [
    "pd.DataFrame([\n",
    "    {\n",
    "        'score': lca.score, \n",
    "    } \n",
    "    for _, _ in zip(lca, range(10))\n",
    "])"
   ]
  },
  {
   "cell_type": "code",
   "execution_count": null,
   "id": "976b23a0-c849-4d19-ae2c-e203b95e9bb2",
   "metadata": {},
   "outputs": [],
   "source": []
  },
  {
   "cell_type": "code",
   "execution_count": null,
   "id": "2cf300e1-0b95-4e8b-bc04-9d4d474cc02f",
   "metadata": {},
   "outputs": [],
   "source": []
  },
  {
   "cell_type": "code",
   "execution_count": null,
   "id": "03610c83-f780-4107-bdac-94373fe4ea28",
   "metadata": {},
   "outputs": [],
   "source": []
  },
  {
   "cell_type": "code",
   "execution_count": null,
   "id": "f3901644-bee2-44b7-91ab-8050b7cb4f00",
   "metadata": {},
   "outputs": [],
   "source": []
  },
  {
   "cell_type": "code",
   "execution_count": null,
   "id": "6d87d8d5-417f-4b18-ab3b-355857eff564",
   "metadata": {},
   "outputs": [],
   "source": []
  },
  {
   "cell_type": "code",
   "execution_count": null,
   "id": "15befcd2-e40a-4986-aa84-9bf1a8924511",
   "metadata": {},
   "outputs": [],
   "source": []
  },
  {
   "cell_type": "code",
   "execution_count": null,
   "id": "5c4ad3a5-bbe7-461f-92d1-4c4374b3ca8a",
   "metadata": {},
   "outputs": [],
   "source": []
  },
  {
   "cell_type": "code",
   "execution_count": null,
   "id": "ac3288ba-365c-423f-befc-6fc5b7a1efa9",
   "metadata": {},
   "outputs": [],
   "source": []
  },
  {
   "cell_type": "code",
   "execution_count": null,
   "id": "ea2eb3df-799d-4797-b1ec-56e530da4074",
   "metadata": {},
   "outputs": [],
   "source": []
  },
  {
   "cell_type": "code",
   "execution_count": null,
   "id": "ac84f9f3-12c4-411c-9ebd-d7a58503e2e9",
   "metadata": {},
   "outputs": [],
   "source": []
  },
  {
   "cell_type": "code",
   "execution_count": null,
   "id": "ba6c1202-27ac-4c37-b737-97f948350c7f",
   "metadata": {},
   "outputs": [],
   "source": []
  },
  {
   "cell_type": "code",
   "execution_count": null,
   "id": "bdd5122e-b9ad-4b24-9e7f-566b539b5a37",
   "metadata": {},
   "outputs": [],
   "source": []
  },
  {
   "cell_type": "code",
   "execution_count": null,
   "id": "1c490d87-230d-4ce1-a663-4a17de0a2f7e",
   "metadata": {},
   "outputs": [],
   "source": []
  }
 ],
 "metadata": {
  "kernelspec": {
   "display_name": "Python 3 (ipykernel)",
   "language": "python",
   "name": "python3"
  },
  "language_info": {
   "codemirror_mode": {
    "name": "ipython",
    "version": 3
   },
   "file_extension": ".py",
   "mimetype": "text/x-python",
   "name": "python",
   "nbconvert_exporter": "python",
   "pygments_lexer": "ipython3",
   "version": "3.9.7"
  }
 },
 "nbformat": 4,
 "nbformat_minor": 5
}
