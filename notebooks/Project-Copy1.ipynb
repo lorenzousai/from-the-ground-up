{
 "cells": [
  {
   "cell_type": "code",
   "execution_count": 1,
   "id": "0d966dd8-e5f3-4b20-be98-08feeda8a52f",
   "metadata": {},
   "outputs": [],
   "source": [
    "import bw2data as bd\n",
    "import bw2io as bi\n",
    "import bw2calc as bc\n",
    "import pandas as pd\n",
    "from scipy.special import expit\n",
    "from matplotlib import pyplot as plt\n",
    "import numpy as np\n",
    "import bw_processing as bwp\n",
    "from carculator import *\n",
    "\n",
    "import pandas as pd\n"
   ]
  },
  {
   "cell_type": "code",
   "execution_count": 2,
   "id": "a62f1ea5-d085-4fd4-84af-7d96002973e4",
   "metadata": {},
   "outputs": [],
   "source": [
    "def replacement(cf_mass):\n",
    "    return 5 - cf_mass * (1 + expit(cf_mass * 4 - 5)) + np.random.rand()"
   ]
  },
  {
   "cell_type": "code",
   "execution_count": 3,
   "id": "5e2b74f7-73e7-4983-a0f6-109e636eecd5",
   "metadata": {},
   "outputs": [],
   "source": [
    "class MyCoolAluminiumThing:\n",
    "    def __next__(self):\n",
    "        cf = np.random.rand() * 2.5\n",
    "        alu = replacement(cf)\n",
    "        return np.array([cf, alu])"
   ]
  },
  {
   "cell_type": "markdown",
   "id": "12e38db9-11b6-49e4-a443-8854f0395707",
   "metadata": {},
   "source": [
    "# Ecoinvent importer "
   ]
  },
  {
   "cell_type": "code",
   "execution_count": 4,
   "id": "ce3fe847-1348-475e-9f48-4836b4b9c1b6",
   "metadata": {},
   "outputs": [],
   "source": [
    "bd.projects.set_current(\"Madonna_ladra\")"
   ]
  },
  {
   "cell_type": "code",
   "execution_count": 5,
   "id": "b3ca0ac1-64f1-4c65-8373-ad283afff007",
   "metadata": {},
   "outputs": [
    {
     "data": {
      "text/plain": [
       "Databases dictionary with 0 objects"
      ]
     },
     "execution_count": 5,
     "metadata": {},
     "output_type": "execute_result"
    }
   ],
   "source": [
    "bi.databases"
   ]
  },
  {
   "cell_type": "code",
   "execution_count": 6,
   "id": "8671f41b-b0f9-44d6-837f-9691833c8267",
   "metadata": {},
   "outputs": [],
   "source": [
    "if 'biosphere3' in bd.databases:\n",
    "    del bd.databases['biosphere3']\n",
    "    \n",
    "if 'ecoinvent 3.7 cutoff' in bd.databases:\n",
    "    del bd.databases['ecoinvent 3.7 cutoff']"
   ]
  },
  {
   "cell_type": "code",
   "execution_count": 7,
   "id": "38b00b19-84df-4f32-a573-bf3ce06f3bb3",
   "metadata": {},
   "outputs": [
    {
     "name": "stdout",
     "output_type": "stream",
     "text": [
      "Creating default biosphere\n",
      "\n"
     ]
    },
    {
     "name": "stderr",
     "output_type": "stream",
     "text": [
      "Writing activities to SQLite3 database:\n"
     ]
    },
    {
     "name": "stdout",
     "output_type": "stream",
     "text": [
      "Applying strategy: normalize_units\n",
      "Applying strategy: drop_unspecified_subcategories\n",
      "Applying strategy: ensure_categories_are_tuples\n",
      "Applied 3 strategies in 0.01 seconds\n"
     ]
    },
    {
     "name": "stderr",
     "output_type": "stream",
     "text": [
      "0% [##############################] 100% | ETA: 00:00:00\n",
      "Total time elapsed: 00:00:00\n"
     ]
    },
    {
     "name": "stdout",
     "output_type": "stream",
     "text": [
      "Title: Writing activities to SQLite3 database:\n",
      "  Started: 10/20/2021 20:01:54\n",
      "  Finished: 10/20/2021 20:01:55\n",
      "  Total time elapsed: 00:00:00\n",
      "  CPU %: 95.90\n",
      "  Memory %: 1.18\n",
      "Created database: biosphere3\n",
      "Creating default LCIA methods\n",
      "\n",
      "Applying strategy: normalize_units\n",
      "Applying strategy: set_biosphere_type\n",
      "Applying strategy: fix_ecoinvent_38_lcia_implementation\n",
      "Applying strategy: drop_unspecified_subcategories\n",
      "Applying strategy: link_iterable_by_fields\n",
      "Applied 5 strategies in 2.05 seconds\n",
      "Wrote 975 LCIA methods with 254388 characterization factors\n",
      "Creating core data migrations\n",
      "\n"
     ]
    }
   ],
   "source": [
    "bi.bw2setup()"
   ]
  },
  {
   "cell_type": "code",
   "execution_count": 8,
   "id": "c4033b34-b35a-4c52-b3bf-7a1b771a7a82",
   "metadata": {},
   "outputs": [
    {
     "name": "stdout",
     "output_type": "stream",
     "text": [
      "Extracting XML data from 19128 datasets\n"
     ]
    },
    {
     "ename": "KeyboardInterrupt",
     "evalue": "",
     "output_type": "error",
     "traceback": [
      "\u001b[1;31m---------------------------------------------------------------------------\u001b[0m",
      "\u001b[1;31mKeyboardInterrupt\u001b[0m                         Traceback (most recent call last)",
      "\u001b[1;32m~\\AppData\\Local\\Temp/ipykernel_17448/2658775895.py\u001b[0m in \u001b[0;36m<module>\u001b[1;34m\u001b[0m\n\u001b[1;32m----> 1\u001b[1;33m ei = bi.SingleOutputEcospold2Importer(r\"C:/Users/lorenzou/Box Sync/PhD work/Brightway/ei/datasets/\",\n\u001b[0m\u001b[0;32m      2\u001b[0m                                            \u001b[1;34m'ecoinvent 3.7 cutoff'\u001b[0m\u001b[1;33m\u001b[0m\u001b[1;33m\u001b[0m\u001b[0m\n\u001b[0;32m      3\u001b[0m                                           )\n\u001b[0;32m      4\u001b[0m \u001b[0mei\u001b[0m\u001b[1;33m.\u001b[0m\u001b[0mapply_strategies\u001b[0m\u001b[1;33m(\u001b[0m\u001b[1;33m)\u001b[0m\u001b[1;33m\u001b[0m\u001b[1;33m\u001b[0m\u001b[0m\n\u001b[0;32m      5\u001b[0m \u001b[0mei\u001b[0m\u001b[1;33m.\u001b[0m\u001b[0mstatistics\u001b[0m\u001b[1;33m(\u001b[0m\u001b[1;33m)\u001b[0m\u001b[1;33m\u001b[0m\u001b[1;33m\u001b[0m\u001b[0m\n",
      "\u001b[1;32mC:\\ProgramData\\Anaconda3\\envs\\bw25\\lib\\site-packages\\bw2io\\importers\\ecospold2.py\u001b[0m in \u001b[0;36m__init__\u001b[1;34m(self, dirpath, db_name, extractor, use_mp, signal)\u001b[0m\n\u001b[0;32m     69\u001b[0m         \u001b[0mstart\u001b[0m \u001b[1;33m=\u001b[0m \u001b[0mtime\u001b[0m\u001b[1;33m(\u001b[0m\u001b[1;33m)\u001b[0m\u001b[1;33m\u001b[0m\u001b[1;33m\u001b[0m\u001b[0m\n\u001b[0;32m     70\u001b[0m         \u001b[1;32mtry\u001b[0m\u001b[1;33m:\u001b[0m\u001b[1;33m\u001b[0m\u001b[1;33m\u001b[0m\u001b[0m\n\u001b[1;32m---> 71\u001b[1;33m             \u001b[0mself\u001b[0m\u001b[1;33m.\u001b[0m\u001b[0mdata\u001b[0m \u001b[1;33m=\u001b[0m \u001b[0mextractor\u001b[0m\u001b[1;33m.\u001b[0m\u001b[0mextract\u001b[0m\u001b[1;33m(\u001b[0m\u001b[0mdirpath\u001b[0m\u001b[1;33m,\u001b[0m \u001b[0mdb_name\u001b[0m\u001b[1;33m,\u001b[0m \u001b[0muse_mp\u001b[0m\u001b[1;33m=\u001b[0m\u001b[0muse_mp\u001b[0m\u001b[1;33m)\u001b[0m\u001b[1;33m\u001b[0m\u001b[1;33m\u001b[0m\u001b[0m\n\u001b[0m\u001b[0;32m     72\u001b[0m         \u001b[1;32mexcept\u001b[0m \u001b[0mRuntimeError\u001b[0m \u001b[1;32mas\u001b[0m \u001b[0me\u001b[0m\u001b[1;33m:\u001b[0m\u001b[1;33m\u001b[0m\u001b[1;33m\u001b[0m\u001b[0m\n\u001b[0;32m     73\u001b[0m             raise MultiprocessingError(\n",
      "\u001b[1;32mC:\\ProgramData\\Anaconda3\\envs\\bw25\\lib\\site-packages\\bw2io\\extractors\\ecospold2.py\u001b[0m in \u001b[0;36mextract\u001b[1;34m(cls, dirpath, db_name, use_mp)\u001b[0m\n\u001b[0;32m     84\u001b[0m                     \u001b[1;32mfor\u001b[0m \u001b[0mx\u001b[0m \u001b[1;32min\u001b[0m \u001b[0mfilelist\u001b[0m\u001b[1;33m\u001b[0m\u001b[1;33m\u001b[0m\u001b[0m\n\u001b[0;32m     85\u001b[0m                 ]\n\u001b[1;32m---> 86\u001b[1;33m                 \u001b[0mdata\u001b[0m \u001b[1;33m=\u001b[0m \u001b[1;33m[\u001b[0m\u001b[0mp\u001b[0m\u001b[1;33m.\u001b[0m\u001b[0mget\u001b[0m\u001b[1;33m(\u001b[0m\u001b[1;33m)\u001b[0m \u001b[1;32mfor\u001b[0m \u001b[0mp\u001b[0m \u001b[1;32min\u001b[0m \u001b[0mresults\u001b[0m\u001b[1;33m]\u001b[0m\u001b[1;33m\u001b[0m\u001b[1;33m\u001b[0m\u001b[0m\n\u001b[0m\u001b[0;32m     87\u001b[0m         \u001b[1;32melse\u001b[0m\u001b[1;33m:\u001b[0m\u001b[1;33m\u001b[0m\u001b[1;33m\u001b[0m\u001b[0m\n\u001b[0;32m     88\u001b[0m             pbar = pyprind.ProgBar(\n",
      "\u001b[1;32mC:\\ProgramData\\Anaconda3\\envs\\bw25\\lib\\site-packages\\bw2io\\extractors\\ecospold2.py\u001b[0m in \u001b[0;36m<listcomp>\u001b[1;34m(.0)\u001b[0m\n\u001b[0;32m     84\u001b[0m                     \u001b[1;32mfor\u001b[0m \u001b[0mx\u001b[0m \u001b[1;32min\u001b[0m \u001b[0mfilelist\u001b[0m\u001b[1;33m\u001b[0m\u001b[1;33m\u001b[0m\u001b[0m\n\u001b[0;32m     85\u001b[0m                 ]\n\u001b[1;32m---> 86\u001b[1;33m                 \u001b[0mdata\u001b[0m \u001b[1;33m=\u001b[0m \u001b[1;33m[\u001b[0m\u001b[0mp\u001b[0m\u001b[1;33m.\u001b[0m\u001b[0mget\u001b[0m\u001b[1;33m(\u001b[0m\u001b[1;33m)\u001b[0m \u001b[1;32mfor\u001b[0m \u001b[0mp\u001b[0m \u001b[1;32min\u001b[0m \u001b[0mresults\u001b[0m\u001b[1;33m]\u001b[0m\u001b[1;33m\u001b[0m\u001b[1;33m\u001b[0m\u001b[0m\n\u001b[0m\u001b[0;32m     87\u001b[0m         \u001b[1;32melse\u001b[0m\u001b[1;33m:\u001b[0m\u001b[1;33m\u001b[0m\u001b[1;33m\u001b[0m\u001b[0m\n\u001b[0;32m     88\u001b[0m             pbar = pyprind.ProgBar(\n",
      "\u001b[1;32mC:\\ProgramData\\Anaconda3\\envs\\bw25\\lib\\multiprocessing\\pool.py\u001b[0m in \u001b[0;36mget\u001b[1;34m(self, timeout)\u001b[0m\n\u001b[0;32m    763\u001b[0m \u001b[1;33m\u001b[0m\u001b[0m\n\u001b[0;32m    764\u001b[0m     \u001b[1;32mdef\u001b[0m \u001b[0mget\u001b[0m\u001b[1;33m(\u001b[0m\u001b[0mself\u001b[0m\u001b[1;33m,\u001b[0m \u001b[0mtimeout\u001b[0m\u001b[1;33m=\u001b[0m\u001b[1;32mNone\u001b[0m\u001b[1;33m)\u001b[0m\u001b[1;33m:\u001b[0m\u001b[1;33m\u001b[0m\u001b[1;33m\u001b[0m\u001b[0m\n\u001b[1;32m--> 765\u001b[1;33m         \u001b[0mself\u001b[0m\u001b[1;33m.\u001b[0m\u001b[0mwait\u001b[0m\u001b[1;33m(\u001b[0m\u001b[0mtimeout\u001b[0m\u001b[1;33m)\u001b[0m\u001b[1;33m\u001b[0m\u001b[1;33m\u001b[0m\u001b[0m\n\u001b[0m\u001b[0;32m    766\u001b[0m         \u001b[1;32mif\u001b[0m \u001b[1;32mnot\u001b[0m \u001b[0mself\u001b[0m\u001b[1;33m.\u001b[0m\u001b[0mready\u001b[0m\u001b[1;33m(\u001b[0m\u001b[1;33m)\u001b[0m\u001b[1;33m:\u001b[0m\u001b[1;33m\u001b[0m\u001b[1;33m\u001b[0m\u001b[0m\n\u001b[0;32m    767\u001b[0m             \u001b[1;32mraise\u001b[0m \u001b[0mTimeoutError\u001b[0m\u001b[1;33m\u001b[0m\u001b[1;33m\u001b[0m\u001b[0m\n",
      "\u001b[1;32mC:\\ProgramData\\Anaconda3\\envs\\bw25\\lib\\multiprocessing\\pool.py\u001b[0m in \u001b[0;36mwait\u001b[1;34m(self, timeout)\u001b[0m\n\u001b[0;32m    760\u001b[0m \u001b[1;33m\u001b[0m\u001b[0m\n\u001b[0;32m    761\u001b[0m     \u001b[1;32mdef\u001b[0m \u001b[0mwait\u001b[0m\u001b[1;33m(\u001b[0m\u001b[0mself\u001b[0m\u001b[1;33m,\u001b[0m \u001b[0mtimeout\u001b[0m\u001b[1;33m=\u001b[0m\u001b[1;32mNone\u001b[0m\u001b[1;33m)\u001b[0m\u001b[1;33m:\u001b[0m\u001b[1;33m\u001b[0m\u001b[1;33m\u001b[0m\u001b[0m\n\u001b[1;32m--> 762\u001b[1;33m         \u001b[0mself\u001b[0m\u001b[1;33m.\u001b[0m\u001b[0m_event\u001b[0m\u001b[1;33m.\u001b[0m\u001b[0mwait\u001b[0m\u001b[1;33m(\u001b[0m\u001b[0mtimeout\u001b[0m\u001b[1;33m)\u001b[0m\u001b[1;33m\u001b[0m\u001b[1;33m\u001b[0m\u001b[0m\n\u001b[0m\u001b[0;32m    763\u001b[0m \u001b[1;33m\u001b[0m\u001b[0m\n\u001b[0;32m    764\u001b[0m     \u001b[1;32mdef\u001b[0m \u001b[0mget\u001b[0m\u001b[1;33m(\u001b[0m\u001b[0mself\u001b[0m\u001b[1;33m,\u001b[0m \u001b[0mtimeout\u001b[0m\u001b[1;33m=\u001b[0m\u001b[1;32mNone\u001b[0m\u001b[1;33m)\u001b[0m\u001b[1;33m:\u001b[0m\u001b[1;33m\u001b[0m\u001b[1;33m\u001b[0m\u001b[0m\n",
      "\u001b[1;32mC:\\ProgramData\\Anaconda3\\envs\\bw25\\lib\\threading.py\u001b[0m in \u001b[0;36mwait\u001b[1;34m(self, timeout)\u001b[0m\n\u001b[0;32m    572\u001b[0m             \u001b[0msignaled\u001b[0m \u001b[1;33m=\u001b[0m \u001b[0mself\u001b[0m\u001b[1;33m.\u001b[0m\u001b[0m_flag\u001b[0m\u001b[1;33m\u001b[0m\u001b[1;33m\u001b[0m\u001b[0m\n\u001b[0;32m    573\u001b[0m             \u001b[1;32mif\u001b[0m \u001b[1;32mnot\u001b[0m \u001b[0msignaled\u001b[0m\u001b[1;33m:\u001b[0m\u001b[1;33m\u001b[0m\u001b[1;33m\u001b[0m\u001b[0m\n\u001b[1;32m--> 574\u001b[1;33m                 \u001b[0msignaled\u001b[0m \u001b[1;33m=\u001b[0m \u001b[0mself\u001b[0m\u001b[1;33m.\u001b[0m\u001b[0m_cond\u001b[0m\u001b[1;33m.\u001b[0m\u001b[0mwait\u001b[0m\u001b[1;33m(\u001b[0m\u001b[0mtimeout\u001b[0m\u001b[1;33m)\u001b[0m\u001b[1;33m\u001b[0m\u001b[1;33m\u001b[0m\u001b[0m\n\u001b[0m\u001b[0;32m    575\u001b[0m             \u001b[1;32mreturn\u001b[0m \u001b[0msignaled\u001b[0m\u001b[1;33m\u001b[0m\u001b[1;33m\u001b[0m\u001b[0m\n\u001b[0;32m    576\u001b[0m \u001b[1;33m\u001b[0m\u001b[0m\n",
      "\u001b[1;32mC:\\ProgramData\\Anaconda3\\envs\\bw25\\lib\\threading.py\u001b[0m in \u001b[0;36mwait\u001b[1;34m(self, timeout)\u001b[0m\n\u001b[0;32m    310\u001b[0m         \u001b[1;32mtry\u001b[0m\u001b[1;33m:\u001b[0m    \u001b[1;31m# restore state no matter what (e.g., KeyboardInterrupt)\u001b[0m\u001b[1;33m\u001b[0m\u001b[1;33m\u001b[0m\u001b[0m\n\u001b[0;32m    311\u001b[0m             \u001b[1;32mif\u001b[0m \u001b[0mtimeout\u001b[0m \u001b[1;32mis\u001b[0m \u001b[1;32mNone\u001b[0m\u001b[1;33m:\u001b[0m\u001b[1;33m\u001b[0m\u001b[1;33m\u001b[0m\u001b[0m\n\u001b[1;32m--> 312\u001b[1;33m                 \u001b[0mwaiter\u001b[0m\u001b[1;33m.\u001b[0m\u001b[0macquire\u001b[0m\u001b[1;33m(\u001b[0m\u001b[1;33m)\u001b[0m\u001b[1;33m\u001b[0m\u001b[1;33m\u001b[0m\u001b[0m\n\u001b[0m\u001b[0;32m    313\u001b[0m                 \u001b[0mgotit\u001b[0m \u001b[1;33m=\u001b[0m \u001b[1;32mTrue\u001b[0m\u001b[1;33m\u001b[0m\u001b[1;33m\u001b[0m\u001b[0m\n\u001b[0;32m    314\u001b[0m             \u001b[1;32melse\u001b[0m\u001b[1;33m:\u001b[0m\u001b[1;33m\u001b[0m\u001b[1;33m\u001b[0m\u001b[0m\n",
      "\u001b[1;31mKeyboardInterrupt\u001b[0m: "
     ]
    }
   ],
   "source": [
    "ei = bi.SingleOutputEcospold2Importer(r\"C:/Users/lorenzou/Box Sync/PhD work/Brightway/ei/datasets/\",\n",
    "                                           'ecoinvent 3.7 cutoff'\n",
    "                                          )\n",
    "ei.apply_strategies()\n",
    "ei.statistics()"
   ]
  },
  {
   "cell_type": "code",
   "execution_count": null,
   "id": "9c6da2a9-33fc-4490-964e-b1abc01f0646",
   "metadata": {},
   "outputs": [],
   "source": [
    "ei.all_linked"
   ]
  },
  {
   "cell_type": "code",
   "execution_count": null,
   "id": "db580eb9-1c50-4b45-b467-1b1717e8906d",
   "metadata": {},
   "outputs": [],
   "source": [
    "ei.write_database()"
   ]
  },
  {
   "cell_type": "code",
   "execution_count": null,
   "id": "d3a2d95c-b67e-49b8-b813-4c05b0fa1ff9",
   "metadata": {},
   "outputs": [],
   "source": [
    "truck = [x for x in ei if x['name'] == 'transport, freight, lorry >32 metric ton, EURO5'][0]"
   ]
  },
  {
   "cell_type": "markdown",
   "id": "463a7cf0-ee1c-4ef4-ae2c-ba570f024a71",
   "metadata": {},
   "source": [
    "# Read data from carculator"
   ]
  },
  {
   "cell_type": "code",
   "execution_count": null,
   "id": "dc81e801-fea8-4e5e-8a27-f2516d008b6b",
   "metadata": {},
   "outputs": [],
   "source": [
    "biosphere = bd.Database('biosphere3')\n",
    "biosphere.register()"
   ]
  },
  {
   "cell_type": "code",
   "execution_count": null,
   "id": "d1244393-ef78-4f2e-8020-caba6e2771c1",
   "metadata": {},
   "outputs": [],
   "source": [
    "ei = bd.Database('ecoinvent 3.7 cutoff')\n",
    "ei.register()"
   ]
  },
  {
   "cell_type": "code",
   "execution_count": null,
   "id": "8185dd5a-d406-43a0-9723-8430bdbcc7c0",
   "metadata": {},
   "outputs": [],
   "source": [
    "truck = [x for x in ei if x['name'] == 'transport, freight, lorry >32 metric ton, EURO5'][0]"
   ]
  },
  {
   "cell_type": "code",
   "execution_count": null,
   "id": "081d0776-32a7-45a5-940e-11ad2a98998a",
   "metadata": {},
   "outputs": [],
   "source": [
    "truck['activity']"
   ]
  },
  {
   "cell_type": "code",
   "execution_count": null,
   "id": "8ac24085-d21f-44e8-a764-093f639ce432",
   "metadata": {},
   "outputs": [],
   "source": [
    "ele = ei.search('market for electricity, low-voltage RER')"
   ]
  },
  {
   "cell_type": "code",
   "execution_count": null,
   "id": "d0918c38-6e7f-455d-a260-1db2bae10737",
   "metadata": {},
   "outputs": [],
   "source": [
    "for act in [act for act in ei if 'market for steel,' in act['name']]:\n",
    "    print(act)"
   ]
  },
  {
   "cell_type": "code",
   "execution_count": null,
   "id": "a9fbadb6-916e-4874-8d3b-87cb71fdd7ae",
   "metadata": {
    "tags": []
   },
   "outputs": [],
   "source": [
    "for act in [act for act in ei if 'aluminium' in act['name']]:\n",
    "    print(act)"
   ]
  },
  {
   "cell_type": "code",
   "execution_count": null,
   "id": "add2d710-2cb8-4aab-911e-73332b00d7b4",
   "metadata": {},
   "outputs": [],
   "source": [
    "for activity in [act for act in ei if 'Glider' in act['name']]:\n",
    "    activity.delete()\n",
    "\n",
    "    \n",
    "EV = ei.new_activity(code = 'electric_vehicles', name = 'EV', unit = 'unit')\n",
    "EV.save()\n",
    "\n",
    "ICEV = ei.new_activity(code = 'electric_vehicles', name = 'EV', unit = 'unit')\n",
    "ICEV.save()\n",
    "    \n",
    "glider = ei.new_activity(code = 'test_glider', name = 'Glider', unit = 'unit')\n",
    "glider.save()"
   ]
  },
  {
   "cell_type": "code",
   "execution_count": null,
   "id": "71f1f118-431d-41c1-8b10-43001d75f126",
   "metadata": {},
   "outputs": [],
   "source": [
    "steel = [act for act in ei if act['name']== 'market for steel, low-alloyed'][0]\n",
    "aluminium = [act for act in ei if act['name'] == 'aluminium alloy production, AlMg3'][0]\n",
    "carbon_fibre = [act for act in ei if act['name'] == 'market for carbon fibre reinforced plastic, injection moulded'][0]\n"
   ]
  },
  {
   "cell_type": "code",
   "execution_count": null,
   "id": "7455d71e-d4eb-44f9-b27f-51f5fc17c509",
   "metadata": {},
   "outputs": [],
   "source": [
    "glider.new_exchange(input = steel.key, amount = 1300, unit = 'kg', type = 'technosphere').save()\n",
    "glider.new_exchange(input = aluminium.key, amount = 200, unit = 'kg', type = 'technosphere').save()\n",
    "glider.new_exchange(input = carbon_fibre.key, amount = 0, unit = 'kg', type = 'technosphere').save()"
   ]
  },
  {
   "cell_type": "code",
   "execution_count": null,
   "id": "0ae81c8e-9cf4-4d12-8e3f-ffa68564943c",
   "metadata": {},
   "outputs": [],
   "source": [
    "for exc in glider.exchanges():\n",
    "    print(exc)"
   ]
  },
  {
   "cell_type": "code",
   "execution_count": null,
   "id": "3846eae5-39ca-460a-b122-f649a138299d",
   "metadata": {},
   "outputs": [],
   "source": [
    "ICEV.new_exchange(input = glider, amount = 1, unit = 'unit').save()\n",
    "\n",
    "EV.new_exchange(input = glider, amount = 1.1, unit = 'unit').save()"
   ]
  },
  {
   "cell_type": "code",
   "execution_count": null,
   "id": "70d86850-bbd3-460e-a4f1-9fac496ca1ca",
   "metadata": {},
   "outputs": [],
   "source": [
    "for act in [act for act in ei if 'battery cell production' in act['name'] and 'RoW' in act['location']]:\n",
    "    print(act)"
   ]
  },
  {
   "cell_type": "code",
   "execution_count": null,
   "id": "dd742c2b-6eb4-4d7d-96ba-201cd3aaabe5",
   "metadata": {},
   "outputs": [],
   "source": [
    "LIB = [act for act in ei if 'battery cell production' in act['name'] and 'RoW' in act['location']][0]"
   ]
  },
  {
   "cell_type": "code",
   "execution_count": null,
   "id": "938cdec6-48ce-4037-9ced-ae27bd992fd1",
   "metadata": {},
   "outputs": [],
   "source": [
    "EV.new_exchange(input = LIB, amount = 340, unit = 'kg').save()"
   ]
  },
  {
   "cell_type": "code",
   "execution_count": null,
   "id": "29f387ed-7715-4874-ab7c-6b100dc009da",
   "metadata": {},
   "outputs": [],
   "source": []
  },
  {
   "cell_type": "code",
   "execution_count": null,
   "id": "2a3dbb35-7ec1-4198-8207-4a69b78b00c5",
   "metadata": {},
   "outputs": [],
   "source": []
  },
  {
   "cell_type": "code",
   "execution_count": null,
   "id": "f87b2b94-7daa-4820-9719-ba5b2993eb23",
   "metadata": {},
   "outputs": [],
   "source": []
  },
  {
   "cell_type": "code",
   "execution_count": null,
   "id": "25897d18-a75c-4a04-a5a3-2a131642a80b",
   "metadata": {},
   "outputs": [],
   "source": []
  },
  {
   "cell_type": "code",
   "execution_count": null,
   "id": "c40d2fd1-18b4-4eb6-9c1a-d38decf7ad43",
   "metadata": {},
   "outputs": [],
   "source": []
  },
  {
   "cell_type": "code",
   "execution_count": null,
   "id": "eaa6adf5-5c7d-420a-9831-6584b1fab2e7",
   "metadata": {},
   "outputs": [],
   "source": []
  },
  {
   "cell_type": "code",
   "execution_count": null,
   "id": "cf531f77-5d04-4277-ac77-4db478fc4902",
   "metadata": {},
   "outputs": [],
   "source": [
    "method_GWP_recipe = [m for m in bd.methods if 'ReCiPe' in str(m) and  'Midpoint (H)' in str(m) and 'climate change' in str(m)][0]\n",
    "fu = {carbon_fibre:1}"
   ]
  },
  {
   "cell_type": "code",
   "execution_count": null,
   "id": "2f96d196-d17b-49b1-bd35-ee643baaebe6",
   "metadata": {},
   "outputs": [],
   "source": [
    "lca = bc.LCA(fu,method_GWP_recipe)\n",
    "lca.lci()\n",
    "lca.lcia()"
   ]
  },
  {
   "cell_type": "code",
   "execution_count": null,
   "id": "a3362ad5-6d47-4477-a977-d012e63c6306",
   "metadata": {},
   "outputs": [],
   "source": [
    "lca.score"
   ]
  },
  {
   "cell_type": "code",
   "execution_count": null,
   "id": "976b23a0-c849-4d19-ae2c-e203b95e9bb2",
   "metadata": {},
   "outputs": [],
   "source": []
  },
  {
   "cell_type": "code",
   "execution_count": null,
   "id": "2cf300e1-0b95-4e8b-bc04-9d4d474cc02f",
   "metadata": {},
   "outputs": [],
   "source": []
  },
  {
   "cell_type": "code",
   "execution_count": null,
   "id": "03610c83-f780-4107-bdac-94373fe4ea28",
   "metadata": {},
   "outputs": [],
   "source": []
  },
  {
   "cell_type": "code",
   "execution_count": null,
   "id": "f3901644-bee2-44b7-91ab-8050b7cb4f00",
   "metadata": {},
   "outputs": [],
   "source": []
  },
  {
   "cell_type": "code",
   "execution_count": null,
   "id": "6d87d8d5-417f-4b18-ab3b-355857eff564",
   "metadata": {},
   "outputs": [],
   "source": []
  },
  {
   "cell_type": "code",
   "execution_count": null,
   "id": "15befcd2-e40a-4986-aa84-9bf1a8924511",
   "metadata": {},
   "outputs": [],
   "source": []
  },
  {
   "cell_type": "code",
   "execution_count": null,
   "id": "5c4ad3a5-bbe7-461f-92d1-4c4374b3ca8a",
   "metadata": {},
   "outputs": [],
   "source": []
  },
  {
   "cell_type": "code",
   "execution_count": null,
   "id": "ac3288ba-365c-423f-befc-6fc5b7a1efa9",
   "metadata": {},
   "outputs": [],
   "source": []
  },
  {
   "cell_type": "code",
   "execution_count": null,
   "id": "ea2eb3df-799d-4797-b1ec-56e530da4074",
   "metadata": {},
   "outputs": [],
   "source": []
  },
  {
   "cell_type": "code",
   "execution_count": null,
   "id": "ac84f9f3-12c4-411c-9ebd-d7a58503e2e9",
   "metadata": {},
   "outputs": [],
   "source": []
  },
  {
   "cell_type": "code",
   "execution_count": null,
   "id": "ba6c1202-27ac-4c37-b737-97f948350c7f",
   "metadata": {},
   "outputs": [],
   "source": []
  },
  {
   "cell_type": "code",
   "execution_count": null,
   "id": "bdd5122e-b9ad-4b24-9e7f-566b539b5a37",
   "metadata": {},
   "outputs": [],
   "source": []
  },
  {
   "cell_type": "code",
   "execution_count": null,
   "id": "1c490d87-230d-4ce1-a663-4a17de0a2f7e",
   "metadata": {},
   "outputs": [],
   "source": []
  }
 ],
 "metadata": {
  "kernelspec": {
   "display_name": "Python 3 (ipykernel)",
   "language": "python",
   "name": "python3"
  },
  "language_info": {
   "codemirror_mode": {
    "name": "ipython",
    "version": 3
   },
   "file_extension": ".py",
   "mimetype": "text/x-python",
   "name": "python",
   "nbconvert_exporter": "python",
   "pygments_lexer": "ipython3",
   "version": "3.9.7"
  }
 },
 "nbformat": 4,
 "nbformat_minor": 5
}
