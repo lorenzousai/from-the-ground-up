{
 "cells": [
  {
   "cell_type": "code",
   "execution_count": 1,
   "id": "0d966dd8-e5f3-4b20-be98-08feeda8a52f",
   "metadata": {},
   "outputs": [],
   "source": [
    "import bw2data as bd\n",
    "import bw2io as bi\n",
    "import bw2calc as bc\n",
    "import pandas as pd\n",
    "from scipy.special import expit\n",
    "from matplotlib import pyplot as plt\n",
    "import numpy as np\n",
    "import bw_processing as bwp\n",
    "from carculator import *\n",
    "\n",
    "import pandas as pd\n"
   ]
  },
  {
   "cell_type": "code",
   "execution_count": 2,
   "id": "a62f1ea5-d085-4fd4-84af-7d96002973e4",
   "metadata": {},
   "outputs": [],
   "source": [
    "def replacement(cf_mass):\n",
    "    return 5 - cf_mass * (1 + expit(cf_mass * 4 - 5)) + np.random.rand()"
   ]
  },
  {
   "cell_type": "code",
   "execution_count": 3,
   "id": "5e2b74f7-73e7-4983-a0f6-109e636eecd5",
   "metadata": {},
   "outputs": [],
   "source": [
    "class AluminiumThing:\n",
    "    def __next__(self):\n",
    "        cf = np.random.rand() * 2.5\n",
    "        alu = replacement(cf)\n",
    "        return np.array([cf, alu])"
   ]
  },
  {
   "cell_type": "markdown",
   "id": "12e38db9-11b6-49e4-a443-8854f0395707",
   "metadata": {},
   "source": [
    "# Ecoinvent importer "
   ]
  },
  {
   "cell_type": "code",
   "execution_count": 4,
   "id": "8671f41b-b0f9-44d6-837f-9691833c8267",
   "metadata": {},
   "outputs": [],
   "source": [
    "if 'biosphere-3' in bd.databases:\n",
    "    del bd.databases['biosphere-3']"
   ]
  },
  {
   "cell_type": "code",
   "execution_count": 5,
   "id": "d5829e97-5315-4eaf-b61a-f2792215368a",
   "metadata": {},
   "outputs": [],
   "source": [
    "bd.projects.set_current(\"project\")"
   ]
  },
  {
   "cell_type": "code",
   "execution_count": 6,
   "id": "d3a2d95c-b67e-49b8-b813-4c05b0fa1ff9",
   "metadata": {},
   "outputs": [],
   "source": [
    "ei = bd.database.DatabaseChooser('ecoinvent 3.7 cutoff')"
   ]
  },
  {
   "cell_type": "markdown",
   "id": "30765d36-dc22-4951-9310-282a1fb7da87",
   "metadata": {},
   "source": [
    "bi.bw2setup()"
   ]
  },
  {
   "cell_type": "markdown",
   "id": "fce27da1-2c1f-4562-b833-5b5af5f485b5",
   "metadata": {},
   "source": [
    "ei = bi.SingleOutputEcospold2Importer(r\"C:/Users/lorenzou/Box Sync/PhD work/Brightway/ei/datasets/\",\n",
    "                                           'ecoinvent 3.7 cutoff'\n",
    "                                          )\n",
    "ei.apply_strategies()\n",
    "ei.statistics()"
   ]
  },
  {
   "cell_type": "markdown",
   "id": "07e191c3-8eb1-46c0-9121-557fd4ba2311",
   "metadata": {},
   "source": [
    "ei.all_linked"
   ]
  },
  {
   "cell_type": "markdown",
   "id": "69c62cfa-ade5-440c-960e-624455d6fbf8",
   "metadata": {},
   "source": [
    "ei.write_database()"
   ]
  },
  {
   "cell_type": "markdown",
   "id": "463a7cf0-ee1c-4ef4-ae2c-ba570f024a71",
   "metadata": {},
   "source": [
    "# Read data from carculator"
   ]
  },
  {
   "cell_type": "code",
   "execution_count": 22,
   "id": "81879c76-a05f-4a6e-a379-23128180794a",
   "metadata": {},
   "outputs": [
    {
     "name": "stdout",
     "output_type": "stream",
     "text": [
      "****************** IMPORTANT BACKGROUND PARAMETERS ******************\n",
      " * The country of use is RER\n",
      " * Power and energy batteries produced in CN using NMC-111 chemistry.\n",
      " * in 2020, % of renewable: 0%, GHG intensity per kWh: 0 g. CO2-eq.\n",
      " \t * in 2040, % of renewable: 0%, GHG intensity per kWh: 0 g. CO2-eq.\n",
      " * diesel is completed by biodiesel - cooking oil.\n",
      " \t * in 2020 _________________________________________ 8.0%\n",
      " \t * in 2040 _________________________________________ 20.0%\n",
      " * *********************************************************************\n"
     ]
    },
    {
     "name": "stderr",
     "output_type": "stream",
     "text": [
      "0% [##############################] 100% | ETA: 00:00:00 | Item ID: 967\n",
      "Total time elapsed: 00:00:00\n"
     ]
    }
   ],
   "source": [
    "cip = CarInputParameters()\n",
    "cip.static()\n",
    "\n",
    "dcts, array = fill_xarray_from_input_parameters(cip)\n",
    "array = array.interp(year = [2020,2040], kwargs = {'fill_value':'extrapolate'})\n",
    "cm = CarModel(array, cycle = 'WLTC')\n",
    "cm.set_all()     \n",
    "\n",
    "#back_config = {\n",
    " #   'country':'CN',\n",
    " #   'custom electricity mix': [[.2,0,.1,.025,.025,.05,.4,.2,0,0,0,0,0,0,0],\n",
    "                              # [1,0,0,0,0,0,0,0,0,0,0,0,0,0,0]]#[.35,.1,.05,.1,.1,0,.2,.1,0,0,0,0,0,0,0]]\n",
    "#}\n",
    "\n",
    "\n",
    "#array = array.interp(year = [2020,2040], kwargs = {'fill_value':'extrapolate'})\n",
    " \n",
    "scope = {\n",
    "    'powertrain':['ICEV-d'],\n",
    "    'size:':['Large']\n",
    "}\n",
    "\n",
    "ic = InventoryCalculation(cm.array, scope = scope)\n",
    "i, _ = ic.export_lci_to_bw(ecoinvent_version = '3.7')\n",
    "\n",
    "\n",
    "#ic_ICEV.export_lci_to_excel(filename = 'ICEVs_inventories',\n",
    "#                            software_compatibility='brightway2',\n",
    "#                            ecoinvent_version='3.7')\n"
   ]
  },
  {
   "cell_type": "code",
   "execution_count": 23,
   "id": "a872e25d-4424-44fa-9524-bd0a77a92254",
   "metadata": {},
   "outputs": [
    {
     "data": {
      "text/plain": [
       "array([0.99626747, 4.02762197])"
      ]
     },
     "execution_count": 23,
     "metadata": {},
     "output_type": "execute_result"
    }
   ],
   "source": [
    "my_interface = AluminiumThing()\n",
    "next(my_interface)"
   ]
  },
  {
   "cell_type": "markdown",
   "id": "eb9999d9-24cd-47c0-839e-06e0529b87be",
   "metadata": {},
   "source": [
    "if \"mobility\" in bd.databases:\n",
    "    del bd.databases['mobility']\n",
    "    \n",
    "if \"biosphere\" in bd.databases:\n",
    "    del bd.databases['biosphere']    "
   ]
  },
  {
   "cell_type": "code",
   "execution_count": 24,
   "id": "e446177c-5781-4a1f-a564-d770eca3e0bc",
   "metadata": {},
   "outputs": [
    {
     "name": "stdout",
     "output_type": "stream",
     "text": [
      "Applying strategy: normalize_units\n",
      "Applying strategy: drop_unspecified_subcategories\n",
      "Applying strategy: assign_only_product_as_production\n",
      "Applying strategy: strip_biosphere_exc_locations\n",
      "Applied 4 strategies in 0.00 seconds\n",
      "Applying strategy: link_iterable_by_fields\n",
      "Applying strategy: link_iterable_by_fields\n",
      "Applying strategy: link_iterable_by_fields\n",
      "Applying strategy: link_iterable_by_fields\n",
      "Creating new biosphere database: new_biosphere\n"
     ]
    },
    {
     "name": "stderr",
     "output_type": "stream",
     "text": [
      "Writing activities to SQLite3 database:\n",
      "0% [##############################] 100% | ETA: 00:00:00\n",
      "Total time elapsed: 00:00:00\n"
     ]
    },
    {
     "name": "stdout",
     "output_type": "stream",
     "text": [
      "Title: Writing activities to SQLite3 database:\n",
      "  Started: 10/20/2021 17:45:21\n",
      "  Finished: 10/20/2021 17:45:21\n",
      "  Total time elapsed: 00:00:00\n",
      "  CPU %: 98.90\n",
      "  Memory %: 2.93\n",
      "Applying strategy: link_iterable_by_fields\n",
      "Applied 1 strategies in 0.05 seconds\n",
      "287 datasets\n",
      "4561 exchanges\n",
      "0 unlinked exchanges\n",
      "  \n"
     ]
    },
    {
     "name": "stderr",
     "output_type": "stream",
     "text": [
      "Writing activities to SQLite3 database:\n",
      "0% [##############################] 100% | ETA: 00:00:00\n",
      "Total time elapsed: 00:00:00\n"
     ]
    },
    {
     "name": "stdout",
     "output_type": "stream",
     "text": [
      "Title: Writing activities to SQLite3 database:\n",
      "  Started: 10/20/2021 17:45:29\n",
      "  Finished: 10/20/2021 17:45:30\n",
      "  Total time elapsed: 00:00:00\n",
      "  CPU %: 92.00\n",
      "  Memory %: 2.94\n",
      "Created database: carculator db\n"
     ]
    },
    {
     "data": {
      "text/plain": [
       "Brightway2 SQLiteBackend: carculator db"
      ]
     },
     "execution_count": 24,
     "metadata": {},
     "output_type": "execute_result"
    }
   ],
   "source": [
    "if 'new_biosphere' in bd.databases:\n",
    "    del bd.databases['new_biosphere']\n",
    "if 'carculator db' in bd.databases:\n",
    "    del bd.databases['carculator db']\n",
    "    i.apply_strategies()\n",
    "    \n",
    "i.match_database('ecoinvent 3.7 cutoff', fields = ('name','unit','location','reference product'))\n",
    "i.match_database('biosphere-3', fields  = ('name','unit','categories'))\n",
    "i.match_database(fields = ('name','unit','location','reference product'))\n",
    "i.match_database(fields  = ('name','unit','categories'))\n",
    "i.create_new_biosphere('new_biosphere', relink = True)\n",
    "i.statistics()\n",
    "i.write_database()\n"
   ]
  },
  {
   "cell_type": "markdown",
   "id": "628d42f8-b1ae-44e3-af16-3542e40a1991",
   "metadata": {},
   "source": [
    "i_bev.match_database('ecoinvent 3.7 cutoff', fields = ('name','unit','location','reference product'))\n",
    "\n",
    "i_bev.match_database('biosphere-3', fields  = ('name','unit','categories'))\n",
    "i_bev.match_database(fields = ('name','unit','location','reference product'))\n",
    "i_bev.match_database(fields  = ('name','unit','categories'))\n",
    "i_bev.create_new_biosphere('biosphere_bev', relink = True)\n",
    "i_bev.statistics()\n",
    "i_bev.write_database()\n"
   ]
  },
  {
   "cell_type": "markdown",
   "id": "718f77a1-349d-47ab-9bed-bb48d290ed29",
   "metadata": {},
   "source": [
    "db = bd.Database(\"mobility\")\n",
    "db.register()\n",
    "\n",
    "biosphere = bd.Database(\"biosphere-3\")\n",
    "biosphere.register()"
   ]
  },
  {
   "cell_type": "code",
   "execution_count": 25,
   "id": "e776dec9-d4b2-466f-9c93-3f241b650511",
   "metadata": {},
   "outputs": [],
   "source": [
    "biosphere = bd.Database('new_biosphere')\n",
    "biosphere.register()"
   ]
  },
  {
   "cell_type": "code",
   "execution_count": 26,
   "id": "5bc64e22-dafd-4370-90ab-4f48a4aedbf2",
   "metadata": {},
   "outputs": [],
   "source": [
    "db = bd.Database('carculator db')\n",
    "db.register()"
   ]
  },
  {
   "cell_type": "code",
   "execution_count": 38,
   "id": "7f49d8b6-d432-4323-93c7-10eaa7703426",
   "metadata": {},
   "outputs": [
    {
     "data": {
      "text/plain": [
       "{24672: 'Ethanol, from wheat grains, at fuelling station' (kilogram, RER, None),\n",
       " 24821: 'gasoline production, synthetic, from methanol, hydrogen from electrolysis, CO2 from DAC, economic allocation, at fuelling station' (kilogram, RER, None),\n",
       " 24721: 'Hydrogen, gaseous, 700 bar, from SMR of biogas, at fuelling station' (kilogram, RER, None),\n",
       " 24725: 'Hydrogen, gaseous, 700 bar, from gasification of woody biomass in entrained flow gasifier, with CCS, at fuelling station' (kilogram, RER, None),\n",
       " 24822: 'gasoline production, synthetic, from methanol, hydrogen from electrolysis, CO2 from DAC, energy allocation, at fuelling station' (kilogram, RER, None),\n",
       " 24722: 'Hydrogen, gaseous, 700 bar, from coal gasification, at fuelling station' (kilogram, RER, None),\n",
       " 24858: 'electricity market for fuel preparation, 2040' (kilowatt hour, RER, None),\n",
       " 24855: 'electricity market for fuel preparation, 2020' (kilowatt hour, RER, None),\n",
       " 24719: 'Hydrogen, gaseous, 700 bar, from SMR of NG, with CCS, at fuelling station' (kilogram, RER, None),\n",
       " 24632: 'Biomethane, gaseous, 5 bar, from sewage sludge fermentation, at fuelling station' (kilogram, RER, None),\n",
       " 24794: 'Walls and foundations, for hydrogen refuelling station' (unit, RER, None),\n",
       " 24714: 'Hydrogen, gaseous, 700 bar, ATR of NG, at fuelling station' (kilogram, RER, None),\n",
       " 24630: 'Biodiesel, from rapeseed oil, at fuelling station' (kilogram, RER, None),\n",
       " 24631: 'Biodiesel, from used cooking oil, at fuelling station' (kilogram, RER, None),\n",
       " 24670: 'Ethanol, from maize starch, at fuelling station' (kilogram, RER, None),\n",
       " 24673: 'Ethanol, from wheat straw pellets, at fuelling station' (kilogram, RER, None),\n",
       " 24703: 'Hydrogen refuelling station' (unit, GLO, None),\n",
       " 24628: 'Biodiesel, from algae, at fuelling station' (kilogram, RER, None),\n",
       " 24809: 'diesel production, synthetic, from electrolysis-based hydrogen, economic allocation, at fuelling station' (kilogram, RER, None),\n",
       " 24854: 'fuel supply for diesel vehicles, 2020' (kilogram, RER, None),\n",
       " 24715: 'Hydrogen, gaseous, 700 bar, ATR of NG, with CCS, at fuelling station' (kilogram, RER, None),\n",
       " 24740: 'Methane, synthetic, gaseous, 5 bar, from electrochemical methanation, at fuelling station' (kilogram, RER, None),\n",
       " 24717: 'Hydrogen, gaseous, 700 bar, from ATR of biogas, at fuelling station' (kilogram, RER, None),\n",
       " 24810: 'diesel production, synthetic, from electrolysis-based hydrogen, energy allocation, at fuelling station' (kilogram, RER, None),\n",
       " 24727: 'Hydrogen, gaseous, 700 bar, from heatpipe reformer gasification of woody biomass, at fuelling station' (kilogram, RER, None),\n",
       " 24726: 'Hydrogen, gaseous, 700 bar, from heatpipe reformer gasification of woody biomass with CCS, at fuelling station' (kilogram, RER, None),\n",
       " 24724: 'Hydrogen, gaseous, 700 bar, from gasification of woody biomass in entrained flow gasifier, at fuelling station' (kilogram, RER, None),\n",
       " 24629: 'Biodiesel, from palm oil, at fuelling station' (kilogram, RER, None),\n",
       " 24857: 'fuel supply for diesel vehicles, 2040' (kilogram, RER, None),\n",
       " 24716: 'Hydrogen, gaseous, 700 bar, from ATR of biogas with CCS, at fuelling station' (kilogram, RER, None),\n",
       " 24723: 'Hydrogen, gaseous, 700 bar, from electrolysis, at fuelling station' (kilogram, RER, None),\n",
       " 24718: 'Hydrogen, gaseous, 700 bar, from SMR of NG, at fuelling station' (kilogram, RER, None),\n",
       " 24669: 'Ethanol, from forest residues, at fuelling station' (kilogram, RER, None),\n",
       " 24671: 'Ethanol, from sugarbeet, at fuelling station' (kilogram, RER, None),\n",
       " 24720: 'Hydrogen, gaseous, 700 bar, from SMR of biogas with CCS, at fuelling station' (kilogram, RER, None)}"
      ]
     },
     "execution_count": 38,
     "metadata": {},
     "output_type": "execute_result"
    }
   ],
   "source": [
    "{o.id: o for o in db if 'fuel' in  str(o)}"
   ]
  },
  {
   "cell_type": "code",
   "execution_count": 28,
   "id": "70da8ed2-0f36-4aec-b503-a2b4349853d0",
   "metadata": {},
   "outputs": [
    {
     "data": {
      "text/plain": [
       "[{'Passenger car, diesel, Medium, 2020, EURO-6d' (unit, RER, None): 1},\n",
       " {'Passenger car, diesel, Medium, 2040, EURO-6d' (unit, RER, None): 1}]"
      ]
     },
     "execution_count": 28,
     "metadata": {},
     "output_type": "execute_result"
    }
   ],
   "source": [
    "FU = [{act:1} for act in bd.Database('carculator db') if 'Passenger' in act['name'] and 'Medium' in act['name']]\n",
    "FU\n"
   ]
  },
  {
   "cell_type": "code",
   "execution_count": 34,
   "id": "04962d34-4a03-4a17-838b-c49b929b97c9",
   "metadata": {},
   "outputs": [
    {
     "data": {
      "text/html": [
       "<div>\n",
       "<style scoped>\n",
       "    .dataframe tbody tr th:only-of-type {\n",
       "        vertical-align: middle;\n",
       "    }\n",
       "\n",
       "    .dataframe tbody tr th {\n",
       "        vertical-align: top;\n",
       "    }\n",
       "\n",
       "    .dataframe thead th {\n",
       "        text-align: right;\n",
       "    }\n",
       "</style>\n",
       "<table border=\"1\" class=\"dataframe\">\n",
       "  <thead>\n",
       "    <tr style=\"text-align: right;\">\n",
       "      <th></th>\n",
       "      <th>score</th>\n",
       "    </tr>\n",
       "  </thead>\n",
       "  <tbody>\n",
       "    <tr>\n",
       "      <th>0</th>\n",
       "      <td>18339.462939</td>\n",
       "    </tr>\n",
       "  </tbody>\n",
       "</table>\n",
       "</div>"
      ],
      "text/plain": [
       "          score\n",
       "0  18339.462939"
      ]
     },
     "execution_count": 34,
     "metadata": {},
     "output_type": "execute_result"
    }
   ],
   "source": [
    "lca = bc.LCA(FU[1],('IPCC 2013','climate change','GWP 100a'))\n",
    "lca.lci()\n",
    "lca.lcia()\n",
    "pd.DataFrame([\n",
    "    {'score': lca.score,}]) \n"
   ]
  },
  {
   "cell_type": "code",
   "execution_count": 35,
   "id": "07bbc319-8894-4ad2-aa16-0d9d5fb4286e",
   "metadata": {},
   "outputs": [
    {
     "data": {
      "text/plain": [
       "{'process'}"
      ]
     },
     "execution_count": 35,
     "metadata": {},
     "output_type": "execute_result"
    }
   ],
   "source": [
    "{node['type'] for node in db}"
   ]
  },
  {
   "cell_type": "code",
   "execution_count": 36,
   "id": "e79bf4ea-2538-4c36-9578-abd87ed5eef7",
   "metadata": {},
   "outputs": [
    {
     "data": {
      "text/plain": [
       "<19415x19415 sparse matrix of type '<class 'numpy.float64'>'\n",
       "\twith 236960 stored elements in Compressed Sparse Row format>"
      ]
     },
     "execution_count": 36,
     "metadata": {},
     "output_type": "execute_result"
    }
   ],
   "source": [
    "lca.technosphere_matrix"
   ]
  },
  {
   "cell_type": "code",
   "execution_count": 32,
   "id": "d66a6155-4f9a-4d1d-99d4-004a3b29d7c3",
   "metadata": {},
   "outputs": [
    {
     "data": {
      "text/plain": [
       "<2389x19415 sparse matrix of type '<class 'numpy.float64'>'\n",
       "\twith 388659 stored elements in Compressed Sparse Row format>"
      ]
     },
     "execution_count": 32,
     "metadata": {},
     "output_type": "execute_result"
    }
   ],
   "source": [
    "lca.biosphere_matrix"
   ]
  },
  {
   "cell_type": "code",
   "execution_count": 33,
   "id": "2208564d-a805-4b73-9592-e77e737cd426",
   "metadata": {},
   "outputs": [],
   "source": [
    "# Build data package \n",
    "# "
   ]
  },
  {
   "cell_type": "code",
   "execution_count": null,
   "id": "4de11392-1a65-4137-8522-c7581b4d0e8e",
   "metadata": {},
   "outputs": [],
   "source": []
  },
  {
   "cell_type": "code",
   "execution_count": null,
   "id": "09851b22-aabe-4b23-8096-c360b33c2acd",
   "metadata": {},
   "outputs": [],
   "source": [
    "indices_array = np.array([(FU[0].id, FU[].id), (FU[].id, FU[0].id)], dtype=bwp.INDICES_DTYPE)\n",
    "indices_array"
   ]
  },
  {
   "cell_type": "code",
   "execution_count": null,
   "id": "7034d1a6-7e7f-4969-a009-f1c4a297af01",
   "metadata": {},
   "outputs": [],
   "source": []
  },
  {
   "cell_type": "code",
   "execution_count": null,
   "id": "568d0574-19aa-4c6a-8318-2f0307b33adb",
   "metadata": {},
   "outputs": [],
   "source": []
  },
  {
   "cell_type": "code",
   "execution_count": null,
   "id": "99a15f34-f4a7-40d7-bf72-ece52716559e",
   "metadata": {},
   "outputs": [],
   "source": []
  },
  {
   "cell_type": "code",
   "execution_count": null,
   "id": "fd26df41-0bb6-4fd2-850a-64c72c68d0e9",
   "metadata": {},
   "outputs": [],
   "source": []
  },
  {
   "cell_type": "code",
   "execution_count": null,
   "id": "f93f6239-fece-4298-ab81-b74b781c0c86",
   "metadata": {},
   "outputs": [],
   "source": []
  },
  {
   "cell_type": "code",
   "execution_count": null,
   "id": "e8995fab-4686-4ea1-abdf-cf86088f010e",
   "metadata": {},
   "outputs": [],
   "source": []
  },
  {
   "cell_type": "code",
   "execution_count": null,
   "id": "d906db96-a6a2-41f3-bb36-ff6f5a32d951",
   "metadata": {},
   "outputs": [],
   "source": []
  },
  {
   "cell_type": "code",
   "execution_count": null,
   "id": "b057f24b-b4d2-4b54-a65f-d7a30d9d08fb",
   "metadata": {},
   "outputs": [],
   "source": []
  },
  {
   "cell_type": "code",
   "execution_count": null,
   "id": "a075a534-c0f4-4b17-8a0f-297f2ed96923",
   "metadata": {},
   "outputs": [],
   "source": []
  },
  {
   "cell_type": "code",
   "execution_count": null,
   "id": "9dedbcec-302a-4b3a-b50a-33b68f4b09c6",
   "metadata": {},
   "outputs": [],
   "source": []
  },
  {
   "cell_type": "code",
   "execution_count": null,
   "id": "bd91fa47-b205-4ad8-8cf3-bbfb37c96726",
   "metadata": {},
   "outputs": [],
   "source": []
  },
  {
   "cell_type": "code",
   "execution_count": null,
   "id": "cb9941fb-5f69-4a8e-ab10-fc7ef422a9c8",
   "metadata": {},
   "outputs": [],
   "source": []
  },
  {
   "cell_type": "code",
   "execution_count": null,
   "id": "f031fe36-d25f-41bc-a099-c1e5f77806ab",
   "metadata": {},
   "outputs": [],
   "source": [
    "import bw2calc as bc"
   ]
  },
  {
   "cell_type": "code",
   "execution_count": null,
   "id": "2504a424-c376-4ed8-9a9f-fb448e2d334f",
   "metadata": {},
   "outputs": [],
   "source": [
    "from bw_processing import load_datapackage\n",
    "from fs.zipfs import ZipFS"
   ]
  },
  {
   "cell_type": "code",
   "execution_count": null,
   "id": "6ee62fb6-a338-4b2c-a689-0562af0777ab",
   "metadata": {},
   "outputs": [],
   "source": [
    "database_dp = load_datapackage(ZipFS(db.filepath_processed()))\n",
    "method_dp = load_datapackage(ZipFS(ipcc.filepath_processed()))"
   ]
  },
  {
   "cell_type": "markdown",
   "id": "3f1793c6-03a2-42b0-b56d-0ef926951514",
   "metadata": {},
   "source": [
    "We can use the datapackages directly, just as before:"
   ]
  },
  {
   "cell_type": "code",
   "execution_count": null,
   "id": "ebb4a64c-a691-47bd-92cf-793c3bd7764c",
   "metadata": {},
   "outputs": [],
   "source": [
    "interface_dp = bwp.create_datapackage()"
   ]
  },
  {
   "cell_type": "code",
   "execution_count": null,
   "id": "3f5e8fbd-9907-4aa1-9977-b612dab93e3d",
   "metadata": {},
   "outputs": [],
   "source": [
    "indices_array = np.array([(cf.id, bike.id), (alu.id, bike.id)], dtype=bwp.INDICES_DTYPE)\n",
    "indices_array"
   ]
  },
  {
   "cell_type": "code",
   "execution_count": null,
   "id": "169f92f0-4d33-4ff6-833c-f823476d3bea",
   "metadata": {},
   "outputs": [],
   "source": [
    "{o.id: o for o in db}"
   ]
  },
  {
   "cell_type": "code",
   "execution_count": null,
   "id": "f28db04b-c943-44f5-a755-707b3c98cbac",
   "metadata": {},
   "outputs": [],
   "source": [
    "interface_dp.add_dynamic_vector?"
   ]
  },
  {
   "cell_type": "code",
   "execution_count": null,
   "id": "c56543d1-79e2-497a-abf9-303464715399",
   "metadata": {},
   "outputs": [],
   "source": [
    "interface_dp.add_dynamic_vector(\n",
    "    matrix=\"technosphere_matrix\",\n",
    "    interface=my_interface,\n",
    "    name=\"alu replacing CF interface\",\n",
    "    flip_array=np.array([True, True]),\n",
    "    indices_array=indices_array,\n",
    ")    "
   ]
  },
  {
   "cell_type": "code",
   "execution_count": null,
   "id": "146f6ad7-175d-45c8-8962-5d1024fe8e1c",
   "metadata": {},
   "outputs": [],
   "source": [
    "lca = bc.LCA(\n",
    "    demand={bike.id: 1},\n",
    "    data_objs=[database_dp, method_dp, interface_dp],\n",
    "    use_distributions=False,\n",
    "    # use_arrays=True,\n",
    "    seed_override=None\n",
    ")\n",
    "lca.lci()\n",
    "lca.lcia()"
   ]
  },
  {
   "cell_type": "code",
   "execution_count": null,
   "id": "f583caa4-15c9-4abb-9722-0fe7151ecc25",
   "metadata": {},
   "outputs": [],
   "source": [
    "pd.DataFrame([\n",
    "    {\n",
    "        'score': lca.score, \n",
    "        'inv': lca.inventory.sum(), \n",
    "        'char': lca.characterization_matrix.sum()\n",
    "    } for _, _ in zip(lca, range(10))\n",
    "])"
   ]
  },
  {
   "cell_type": "code",
   "execution_count": null,
   "id": "e3f2d34b-19cb-4f6f-8e4f-eb573163a97b",
   "metadata": {},
   "outputs": [],
   "source": [
    "lca.technosphere_matrix.toarray()"
   ]
  },
  {
   "cell_type": "code",
   "execution_count": null,
   "id": "5383cbfa-f86f-4ef1-baf6-ec20d4ee90c1",
   "metadata": {},
   "outputs": [],
   "source": [
    "next(lca)"
   ]
  },
  {
   "cell_type": "code",
   "execution_count": null,
   "id": "1c490d87-230d-4ce1-a663-4a17de0a2f7e",
   "metadata": {},
   "outputs": [],
   "source": []
  }
 ],
 "metadata": {
  "kernelspec": {
   "display_name": "Python 3 (ipykernel)",
   "language": "python",
   "name": "python3"
  },
  "language_info": {
   "codemirror_mode": {
    "name": "ipython",
    "version": 3
   },
   "file_extension": ".py",
   "mimetype": "text/x-python",
   "name": "python",
   "nbconvert_exporter": "python",
   "pygments_lexer": "ipython3",
   "version": "3.9.7"
  }
 },
 "nbformat": 4,
 "nbformat_minor": 5
}
